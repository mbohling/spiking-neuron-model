{
  "nbformat": 4,
  "nbformat_minor": 0,
  "metadata": {
    "colab": {
      "name": "SpikingNeuronModel-IAFSYN.ipynb",
      "private_outputs": true,
      "provenance": [],
      "toc_visible": true,
      "authorship_tag": "ABX9TyN9FpS2e5o53PzEEN24kdh3"
    },
    "kernelspec": {
      "name": "python3",
      "display_name": "Python 3"
    }
  },
  "cells": [
    {
      "cell_type": "markdown",
      "metadata": {
        "deletable": false,
        "editable": false,
        "id": "KSRd-kms3mOU"
      },
      "source": [
        "#The Spiking Neuron Model - Coding Challenge Problems (Part 4)\n"
      ]
    },
    {
      "cell_type": "markdown",
      "metadata": {
        "id": "Bchv4zxZui6n"
      },
      "source": [
        "# Extending the Model: Synaptic Conductance\r\n",
        "\r\n",
        "This interactive document is meant to be followed as the reader makes their way through chapter: *The Spiking Neuron Model*.  Each model presented in the chapter will have a section consisting of a step-by-step walkthrough of a simple Python implementation.  This is followed by an interface to run simulations with different parameter values to answer the Coding Challenge Problems.\r\n",
        "\r\n",
        "For each model covered in the chapter, there is a section called **Simulations for Coding Challenge Problems.**  This is where you will find user-interface components such as value sliders for various parameters.  Use these controls to answer the questions from the text, and feel free to explore how the values affect the results.\r\n",
        "\r\n",
        "\r\n",
        "**Content creators**: Maxwell E. Bohling, Dr. Lawrence Udeigwe"
      ]
    },
    {
      "cell_type": "markdown",
      "metadata": {
        "deletable": false,
        "editable": false,
        "id": "9TSI7O4anITj"
      },
      "source": [
        "## How This Works\n",
        "\n",
        "This Jupyter Notebook has both Content cells and Code cells.  As you make your way through the tutorial, you MUST make sure to run each code cell as you come to them.  Each code cell has a *Play* button next to it which will execute the code. Some code may be hidden (generally because it is more complex code not completely necessary to understand for the purposes of the chapter Coding Challenge Problems.)\n",
        "\n",
        "**IMPORTANT**: You are currently viewing a copy of the original notebook.  You will find that you can edit the content of any cell.  If you accidently change a cell, such as a line of code and/or run into errors as you try to run subsequent blocks, simply refresh the page, OR go to the *Runtime* Menu and select *Restart runtime*.  It is also suggested that you go to the *Edit* menu and select *Clear all outputs.*  This will always allow you to revert the notebook to the original version (though you will have to run each code block again.)\n",
        "\n"
      ]
    },
    {
      "cell_type": "markdown",
      "metadata": {
        "id": "oOIce_z-uFOs"
      },
      "source": [
        " Execute the code block. **Initialize Setup**"
      ]
    },
    {
      "cell_type": "code",
      "metadata": {
        "deletable": false,
        "editable": false,
        "id": "G0sCxYMKuFOs",
        "cellView": "form"
      },
      "source": [
        "#@title Initialize Setup\n",
        "#@markdown Import python libraries, and define helper functions (No need to understand this code, simply make sure you run this first.)\n",
        "import sys\n",
        "import functools as ft\n",
        "import numpy as np\n",
        "import matplotlib.pyplot as plt\n",
        "import ipywidgets as widgets\n",
        "import scipy as sc\n",
        "\n",
        "def printError():\n",
        "  message = 'Something went wrong!\\n\\n'  \n",
        "  message = message + 'Check for the following:\\n\\n'\n",
        "  message = message + '\\t1.  Variables are set to the correct values.  Make sure to replace any instances of \\'None\\'.\\n'\n",
        "  message = message + '\\t2.  All previous code blocks have been run the order they appear and output a success message.\\n'\n",
        "  message = message + '\\t3.  No other code has been altered.\\n\\n'\n",
        "  message = message + 'then try running the code block again.\\n'\n",
        "  print(message)\n",
        "\n",
        "def printSuccess():\n",
        "  message = 'Success!  Move on to the next section.'\n",
        "  print(message)\n",
        "\n",
        "def checkVoltageParameters(Vrest, Vth, Vreset, Vspike):\n",
        "  # Check: IAF-Voltage-Parameters\n",
        "  print('Checking Voltage Parameters...\\n')\n",
        "  try:\n",
        "      check_Vrest = Vrest\n",
        "      check_Vth = Vth\n",
        "      check_Vreset = Vreset\n",
        "      check_Vspike = Vspike\n",
        "  except:\n",
        "    printError()\n",
        "  else:\n",
        "    vals = [Vrest, Vth, Vreset, Vspike]\n",
        "    correct_vals = [-70, -54, -80, 0]\n",
        "    if ft.reduce(lambda i, j : i and j, map(lambda m, k: m == k, vals, correct_vals),  True):  \n",
        "      printSuccess()\n",
        "    else:\n",
        "      printError()\n",
        " \n",
        "def checkNeuronProperties(Rm, Cm, tau_m):\n",
        "  # Check: IAF-Neuron-Properties\n",
        "  print('Checking Neuron Properties...\\n')\n",
        "  try:\n",
        "      check_Rm = Rm\n",
        "      check_Cm = Cm\n",
        "      check_tau_m = tau_m\n",
        "  except:\n",
        "    printError()\n",
        "  else:\n",
        "    vals = [Rm, Cm, tau_m]\n",
        "    correct_vals = [10, 1, 10]\n",
        "    if ft.reduce(lambda i, j : i and j, map(lambda m, k: m == k, vals, correct_vals),  True):  \n",
        "      printSuccess()\n",
        "    else:\n",
        "      printError()\n",
        "\n",
        "def checkSimulationSetup(Vrest, Vinitial, EL, t0, dt, t_final, time, Ie, t_pulse, start_current, end_current):\n",
        "  # Check: IAF-Simulation-Setup\n",
        "  print('Checking Simulation Setup...\\n')\n",
        "  try:\n",
        "    check_Vrest = Vrest\n",
        "    check_Vinitial = Vinitial\n",
        "    check_EL = EL\n",
        "    check_t0 = t0\n",
        "    check_dt = dt\n",
        "    check_t_final = t_final\n",
        "    check_time = time\n",
        "    check_Ie = Ie\n",
        "    check_t_pulse = t_pulse\n",
        "    check_start_current = start_current\n",
        "    check_end_current = end_current\n",
        "  except:\n",
        "    printError()\n",
        "  else:\n",
        "    vals = [Vrest, Vinitial, EL, t0, dt, t_final, Ie, t_pulse, start_current, end_current]\n",
        "    correct_vals = [-70, -70, -70, 0, 1, 500, 1.75, 300, 100, 400]\n",
        "    if ft.reduce(lambda i, j : i and j, map(lambda m, k: m == k, vals, correct_vals),  True):  \n",
        "      if len(time) == 500 and time[0] == 0 and time[-1] == 499:\n",
        "        printSuccess()\n",
        "      else:\n",
        "        printError()\n",
        "    else:\n",
        "      printError()\n",
        "\n",
        "def autoSetValues():\n",
        "  Vrest = -70\n",
        "  Vth = -54 \n",
        "  Vreset = -80\n",
        "  Vspike = 0\n",
        "  Vinitial = Vrest\n",
        "  EL = Vrest\n",
        "  t0 = 0\n",
        "  dt = 1\n",
        "  t_final = 500\n",
        "  time = range(t0, t_final, dt)\n",
        "  t_pulse = 300 \n",
        "  start_current = np.absolute(t_final-t_pulse)/2 \n",
        "  end_current = start_current+t_pulse \n",
        "  V = [0] * len(time)\n",
        "  V[0] = Vrest\n",
        "\n",
        "try:\n",
        "  check_sys = sys\n",
        "except:\n",
        "  printError()\n",
        "else:\n",
        "  modulename = 'functools'\n",
        "  if modulename not in sys.modules:\n",
        "    printError()\n",
        "  else:\n",
        "    printSuccess()"
      ],
      "execution_count": null,
      "outputs": []
    }
  ]
}