{
  "nbformat": 4,
  "nbformat_minor": 0,
  "metadata": {
    "celltoolbar": "Edit Metadata",
    "colab": {
      "name": "SpikingNeuronModel-IAF.ipynb",
      "private_outputs": true,
      "provenance": [],
      "collapsed_sections": [],
      "toc_visible": true
    },
    "kernelspec": {
      "display_name": "Python 3",
      "language": "python",
      "name": "python3"
    },
    "language_info": {
      "codemirror_mode": {
        "name": "ipython",
        "version": 3
      },
      "file_extension": ".py",
      "mimetype": "text/x-python",
      "name": "python",
      "nbconvert_exporter": "python",
      "pygments_lexer": "ipython3",
      "version": "3.8.5"
    }
  },
  "cells": [
    {
      "cell_type": "markdown",
      "metadata": {
        "deletable": false,
        "editable": false,
        "id": "KSRd-kms3mOU"
      },
      "source": [
        "#The Spiking Neuron Model - Coding Challenge Problems (Part 1)\n"
      ]
    },
    {
      "cell_type": "markdown",
      "metadata": {
        "id": "Bchv4zxZui6n"
      },
      "source": [
        "#Integrate-and-Fire Spiking Neuron Model\r\n",
        "This interactive document is meant to be followed as the reader makes their way through chapter: *The Spiking Neuron Model*.  Each model presented in the chapter will have a section consisting of a step-by-step walkthrough of a simple Python implementation.  This is followed by an interface to run simulations with different parameter values to answer the Coding Challenge Problems.\r\n",
        "\r\n",
        "For each model covered in the chapter, there is a section called **Simulations for Coding Challenge Problems.**  This is where you will find user-interface components such as value sliders for various parameters.  Use these controls to answer the questions from the text, and feel free to explore how the values affect the results.\r\n",
        "\r\n",
        "\r\n",
        "**Content creators**: Maxwell E. Bohling, Dr. Lawrence Udeigwe"
      ]
    },
    {
      "cell_type": "markdown",
      "metadata": {
        "deletable": false,
        "editable": false,
        "id": "9TSI7O4anITj"
      },
      "source": [
        "## How This Works\n",
        "\n",
        "This Jupyter Notebook has both Content cells and Code cells.  As you make your way through the tutorial, you MUST make sure to run each code cell as you come to them.  Each code cell has a *Play* button next to it which will execute the code. Some code may be hidden (generally because it is more complex code not completely necessary to understand for the purposes of the chapter Coding Challenge Problems.)\n",
        "\n",
        "**IMPORTANT**: You are currently viewing a copy of the original notebook.  You will find that you can edit the content of any cell.  If you accidently change a cell, such as a line of code and/or run into errors as you try to run subsequent blocks, simply refresh the page, OR go to the *Runtime* Menu and select *Restart runtime*.  It is also suggested that you go to the *Edit* menu and select *Clear all outputs.*  This will always allow you to revert the notebook to the original version (though you will have to run each code block again.)\n",
        "\n"
      ]
    },
    {
      "cell_type": "markdown",
      "metadata": {
        "id": "TX6Pc79Sj_8p"
      },
      "source": [
        " Execute the code block. **Initialize Setup**"
      ]
    },
    {
      "cell_type": "code",
      "metadata": {
        "deletable": false,
        "editable": false,
        "id": "6pMADAlmVDSp",
        "cellView": "form"
      },
      "source": [
        "#@title Initialize Setup\n",
        "#@markdown Import python libraries, and define helper functions (No need to understand this code, simply make sure you run this first.)\n",
        "import sys\n",
        "import functools as ft\n",
        "import numpy as np\n",
        "import matplotlib.pyplot as plt\n",
        "import ipywidgets as widgets\n",
        "import scipy as sc\n",
        "\n",
        "def printError():\n",
        "  message = 'Something went wrong!\\n\\n'  \n",
        "  message = message + 'Check for the following:\\n\\n'\n",
        "  message = message + '\\t1.  Variables are set to the correct values.  Make sure to replace any instances of \\'None\\'.\\n'\n",
        "  message = message + '\\t2.  All previous code blocks have been run the order they appear and output a success message.\\n'\n",
        "  message = message + '\\t3.  No other code has been altered.\\n\\n'\n",
        "  message = message + 'then try running the code block again.\\n'\n",
        "  print(message)\n",
        "\n",
        "def printSuccess():\n",
        "  message = 'Success!  Move on to the next section.'\n",
        "  print(message)\n",
        "\n",
        "def checkVoltageParameters(Vrest, Vth, Vreset, Vspike):\n",
        "  # Check: IAF-Voltage-Parameters\n",
        "  print('Checking Voltage Parameters...\\n')\n",
        "  try:\n",
        "      check_Vrest = Vrest\n",
        "      check_Vth = Vth\n",
        "      check_Vreset = Vreset\n",
        "      check_Vspike = Vspike\n",
        "  except:\n",
        "    printError()\n",
        "  else:\n",
        "    vals = [Vrest, Vth, Vreset, Vspike]\n",
        "    correct_vals = [-70, -54, -80, 0]\n",
        "    if ft.reduce(lambda i, j : i and j, map(lambda m, k: m == k, vals, correct_vals),  True):  \n",
        "      printSuccess()\n",
        "    else:\n",
        "      printError()\n",
        " \n",
        "def checkNeuronProperties(Rm, Cm, tau_m):\n",
        "  # Check: IAF-Neuron-Properties\n",
        "  print('Checking Neuron Properties...\\n')\n",
        "  try:\n",
        "      check_Rm = Rm\n",
        "      check_Cm = Cm\n",
        "      check_tau_m = tau_m\n",
        "  except:\n",
        "    printError()\n",
        "  else:\n",
        "    vals = [Rm, Cm, tau_m]\n",
        "    correct_vals = [10, 1, 10]\n",
        "    if ft.reduce(lambda i, j : i and j, map(lambda m, k: m == k, vals, correct_vals),  True):  \n",
        "      printSuccess()\n",
        "    else:\n",
        "      printError()\n",
        "\n",
        "def checkSimulationSetup(Vrest, Vinitial, EL, t0, dt, t_final, time, Ie, t_pulse, start_current, end_current):\n",
        "  # Check: IAF-Simulation-Setup\n",
        "  print('Checking Simulation Setup...\\n')\n",
        "  try:\n",
        "    check_Vrest = Vrest\n",
        "    check_Vinitial = Vinitial\n",
        "    check_EL = EL\n",
        "    check_t0 = t0\n",
        "    check_dt = dt\n",
        "    check_t_final = t_final\n",
        "    check_time = time\n",
        "    check_Ie = Ie\n",
        "    check_t_pulse = t_pulse\n",
        "    check_start_current = start_current\n",
        "    check_end_current = end_current\n",
        "  except:\n",
        "    printError()\n",
        "  else:\n",
        "    vals = [Vrest, Vinitial, EL, t0, dt, t_final, Ie, t_pulse, start_current, end_current]\n",
        "    correct_vals = [-70, -70, -70, 0, 1, 500, 1.75, 300, 100, 400]\n",
        "    if ft.reduce(lambda i, j : i and j, map(lambda m, k: m == k, vals, correct_vals),  True):  \n",
        "      if len(time) == 500 and time[0] == 0 and time[-1] == 499:\n",
        "        printSuccess()\n",
        "      else:\n",
        "        printError()\n",
        "    else:\n",
        "      printError()\n",
        "\n",
        "def autoSetValues():\n",
        "  Vrest = -70\n",
        "  Vth = -54 \n",
        "  Vreset = -80\n",
        "  Vspike = 0\n",
        "  Vinitial = Vrest\n",
        "  EL = Vrest\n",
        "  t0 = 0\n",
        "  dt = 1\n",
        "  t_final = 500\n",
        "  time = range(t0, t_final, dt)\n",
        "  t_pulse = 300 \n",
        "  start_current = np.absolute(t_final-t_pulse)/2 \n",
        "  end_current = start_current+t_pulse \n",
        "  V = [0] * len(time)\n",
        "  V[0] = Vrest\n",
        "\n",
        "try:\n",
        "  check_sys = sys\n",
        "except:\n",
        "  printError()\n",
        "else:\n",
        "  modulename = 'functools'\n",
        "  if modulename not in sys.modules:\n",
        "    printError()\n",
        "  else:\n",
        "    printSuccess()"
      ],
      "execution_count": null,
      "outputs": []
    },
    {
      "cell_type": "markdown",
      "metadata": {
        "id": "KNjzRUaW3myQ"
      },
      "source": [
        "## Walkthrough\n",
        "### Membrane Equation\n",
        "Recall that the basic equation is expressed as follows:\n",
        "\n",
        "$ \\displaystyle \\tau_{m}\\frac{dV}{dt} = E_{L} - V(t) + R_{m}I_{e} $\n",
        "\n",
        "\n"
      ]
    },
    {
      "cell_type": "markdown",
      "metadata": {
        "id": "ty3D8yxC3pWU"
      },
      "source": [
        "### Voltage Parameters\n",
        "\n",
        "Start by defining the Voltage-Parameters that determine the resting, threshold, spike, and reset values:\n",
        "\n",
        "*   $ V_{rest} = -70\\;mV $\n",
        "*   $ V_{th} = -54\\;mV $\n",
        "*   $ V_{reset} = -80\\;mV $\n",
        "*   $ V_{spike} = 0\\;mV $\n",
        "\n",
        "\n",
        "\n",
        "\n",
        "\n"
      ]
    },
    {
      "cell_type": "code",
      "metadata": {
        "id": "Th4-o6DP6yWY"
      },
      "source": [
        "# Voltage Parameters - Units mV (1 mV = 1e-3 Volts)\n",
        "Vrest = -70\n",
        "Vth = -54\n",
        "Vreset = -80\n",
        "Vspike = 0\n",
        "\n",
        "checkVoltageParameters(Vrest,Vth,Vreset,Vspike)"
      ],
      "execution_count": null,
      "outputs": []
    },
    {
      "cell_type": "markdown",
      "metadata": {
        "id": "D6IJSMA47EDM"
      },
      "source": [
        "### Neuron Properties\n",
        "We now need to define the values for the Membrane Resistance $ R_{m} $, the Membrane Capacitance, $ C_{m} $, and calculate the Membrane Time Constant.  Use the following values:\n",
        "\n",
        "*    $ R_{m} = 10\\;M\\Omega $\n",
        "*    $ C_{m} = 1\\;nF $\n",
        "*    $ \\tau_{m} = R_{m}C_{m} $\n",
        "\n"
      ]
    },
    {
      "cell_type": "code",
      "metadata": {
        "id": "4yNOY1m38LzY"
      },
      "source": [
        "try:\n",
        "  Rm = 10\n",
        "  Cm = 1\n",
        "# Membrane Time Constant - Units ms (1 ms = 1e-3 Seconds)\n",
        "  tau_m = Rm*Cm\n",
        "except:\n",
        "  printError()\n",
        "else:\n",
        "  checkNeuronProperties(Rm,Cm,tau_m)"
      ],
      "execution_count": null,
      "outputs": []
    },
    {
      "cell_type": "markdown",
      "metadata": {
        "id": "uMrGRECm0QH0"
      },
      "source": [
        "### Simulation Setup\n",
        "We want to run a simulation of the integrate-and-fire model neuron in order to observe the evolution of the membrane potential $V$ overtime.  We begin with the neuron at resting conditions: $V = V_{rest} = -70mV$.\n",
        "\n",
        "Recall that the reversal potential $E_{L} = V_{rest}$.  Since we have defined $V_{rest}$ above, we can set the following parameters."
      ]
    },
    {
      "cell_type": "code",
      "metadata": {
        "id": "ehrzVqAF1QKQ"
      },
      "source": [
        "try:\n",
        "  # Initial Voltage\n",
        "  Vinitial = Vrest\n",
        "\n",
        "  # Leakage Conductance Reversal Potential\n",
        "  EL = Vrest\n",
        "except:\n",
        "  printError()\n",
        "else:\n",
        "  printSuccess()"
      ],
      "execution_count": null,
      "outputs": []
    },
    {
      "cell_type": "markdown",
      "metadata": {
        "id": "Nmw6RkH93eAY"
      },
      "source": [
        "We will be running a 500 ms simulation.  The following lines of code setup a time span for the simulation.  This is simply a matter of defining the start time $t_{0} = 0$ and the total length (in ms) of the simulation: $t_{final} = 500$.  \n",
        "\n",
        "Throughout the simulation, we calculate the membrane potential $V$ at each *time-step*.  The time-step is the change in time for each iteration of the simulation, for example if $t_{0} = 0$, the next computation of $V$ is performed at $t_{0} + dt$.  \n",
        "\n",
        "Thus, by setting $dt = 1$ (in ms), the simulation will compute $V$ at time $t = 1, 2, \\ldots, t_{final}$.  For $dt = 1$, we compute $V$ at every 1 ms until the end of the simulation is reached."
      ]
    },
    {
      "cell_type": "code",
      "metadata": {
        "id": "Nto9i4b0H5uU"
      },
      "source": [
        "try:\n",
        "  # Simulation Time Span (0 to 500ms, dt = 1ms)\n",
        "  t0 = 0\n",
        "  dt = 1\n",
        "  t_final = 500\n",
        "\n",
        "  time = range(t0, t_final, dt)\n",
        "except:\n",
        "  printError()\n",
        "else:\n",
        "  if len(time) == 500 and time[0] == 0 and time[-1] == 499:\n",
        "    printSuccess()\n",
        "  else:\n",
        "    printError()"
      ],
      "execution_count": null,
      "outputs": []
    },
    {
      "cell_type": "markdown",
      "metadata": {
        "id": "RazSL8WEbvYI"
      },
      "source": [
        "We must define one last parameter, and that is the injected current $I_{e}$.  There are two aspects of this parameter that must be defined: the strength of the current measured in nanoamperes (nA), and the time values at which the current is switched on and off."
      ]
    },
    {
      "cell_type": "code",
      "metadata": {
        "id": "ET5qtPsSd7GU"
      },
      "source": [
        "# Input Current: Ie - Units nA (1 nA = 10-9 Amperes)\n",
        "Ie = 1.75\n",
        "\n",
        "try:\n",
        "  check_Ie = Ie\n",
        "except:\n",
        "  printError()\n",
        "else:\n",
        "  if Ie == 1.75:\n",
        "    printSuccess()\n",
        "  else:\n",
        "    printError()"
      ],
      "execution_count": null,
      "outputs": []
    },
    {
      "cell_type": "markdown",
      "metadata": {
        "id": "w3r4kuazd-6E"
      },
      "source": [
        "Recall that we have set up the simulation to run for 500ms.  We want to begin applying the injected current $I_{e}$ at 100ms, and switch it off at 400 ms.\n",
        "\n",
        "To do this we define the variables:\n",
        "*    $ t_{pulse} = 300\\ ms $ \n",
        "*    $ start_{current} = \\displaystyle \\frac{\\left|t_{final}-t_{pulse}\\right|}{2} = \\frac{\\left|500-300\\right|}{2} = 100\\ ms$ \n",
        "*    $ end_{current} = start_{current} + t_{pulse} = 100 + 300 = 400\\ ms $"
      ]
    },
    {
      "cell_type": "code",
      "metadata": {
        "id": "-foxqPxkepXQ"
      },
      "source": [
        "try:\n",
        "  # Current Pulse Time Span - Units ms (1 ms = 1e-3 Seconds)\n",
        "  t_pulse = 300 \n",
        "\n",
        "  # Time at which the current is applied\n",
        "  start_current = np.absolute(t_final-t_pulse)/2 \n",
        "\n",
        "  # Time at which the current is switched off\n",
        "  end_current = start_current+t_pulse \n",
        "except:\n",
        "  printError()\n",
        "else:\n",
        "  checkSimulationSetup(Vrest, Vinitial, EL, t0, dt, t_final, time, Ie, t_pulse, start_current, end_current)"
      ],
      "execution_count": null,
      "outputs": []
    },
    {
      "cell_type": "markdown",
      "metadata": {
        "id": "STna6uUthJfs"
      },
      "source": [
        "### Computing and Storing $\\frac{dV}{dt}$\n",
        "\n",
        "We are about ready to finish the code implementation for simulating an integrate-and-fire model neuron.\n",
        "\n",
        "We only need some way to store the values of the membrane potential $V$ at each time step.  To do this, we simply create an empty list $V(t)$ with a length equal to the number of time-steps of our simulation.  We then set $V(t_{0}) = V(0) = V_{rest}$ as we begin our simulation at resting conditions."
      ]
    },
    {
      "cell_type": "code",
      "metadata": {
        "id": "xHJWJGzvip1U"
      },
      "source": [
        "try:\n",
        "  # Create a list V(t) to store the value of V at each time-step dt\n",
        "  V = [0] * len(time)\n",
        "\n",
        "  # Set the initial value at time t = t0 to the initial value Vinitial\n",
        "  V[0] =  Vinitial\n",
        "except:\n",
        "  printError()\n",
        "else:\n",
        "  printSuccess()"
      ],
      "execution_count": null,
      "outputs": []
    },
    {
      "cell_type": "markdown",
      "metadata": {
        "id": "ffea_pxNk2T8"
      },
      "source": [
        "Finally, we run our simulation according to the following *psuedocode*\n",
        "\n",
        "---\n",
        "\n",
        "*for each time-step from $t = t_{0}$ to $t = t_{final}$*\n",
        "> *If the current time $t < start_{current}\\ $ or $\\ t > end_{current}$*\n",
        ">> $I_{e} = 0$\n",
        "\n",
        "> *otherwise*\n",
        ">> $I_{e} = 1.75\\ nA$\n",
        "\n",
        "> *Use Euler's Method of Numerical Integration to determine the change in membrane potential $\\ dV$ as: $\\ \\displaystyle dV = \\frac{dt}{\\tau_{m}}(E_{L} - V(t) + R_{m}I_{e})$*\n",
        "\n",
        "> *Update $V(t+1) = V(t) + dV$*\n",
        "\n",
        "> *If $\\ V(t+1) \\geq V_{th} $* \n",
        ">> $V(t) = V_{spike}$\n",
        "\n",
        ">> $V(t+1) = V_{reset}$\n",
        "\n",
        "*end*\n",
        "\n",
        "---\n",
        "\n",
        "This translates to the following Python code."
      ]
    },
    {
      "cell_type": "code",
      "metadata": {
        "id": "sFny5AqI3XIs"
      },
      "source": [
        "try:\n",
        "  # For each timestep we compute V and store the value\n",
        "  for t in time[0:-2]:\n",
        "\n",
        "      # If time t < 100 ms, we do not turn the Injected Current on yet.\n",
        "      # If time t > 400ms, we turn the Injected Current off.\n",
        "      if t < start_current or t > end_current:\n",
        "          ie = 0\n",
        "      # Otherwise, we switch on the Injected Current \n",
        "      else:\n",
        "          ie = Ie\n",
        "\n",
        "      # Using Euler's Method for Numerical Integration (See Chapter Text)\n",
        "      # we compute the change in voltage dV as follows (using the model equation)\n",
        "      dVt = (dt/tau_m)*(EL - V[t] + Rm*ie)\n",
        "\n",
        "      # Store this new value into our list\n",
        "      V[t+1] = V[t] + dVt\n",
        "\n",
        "      # If the voltage value we computed crosses the threshold value Vth, a spike occurs.\n",
        "      if V[t+1] >= Vth:\n",
        "          # In the event of a spike, the membrane potential spikes up to Vspike mV\n",
        "          V[t] = Vspike\n",
        "          # Followed by immediate hyperpolarization to its Vreset value.\n",
        "          V[t+1] = Vreset\n",
        "except:\n",
        "  printError()\n",
        "else:\n",
        "  printSuccess()"
      ],
      "execution_count": null,
      "outputs": []
    },
    {
      "cell_type": "markdown",
      "metadata": {
        "id": "JB26_01yqrdM"
      },
      "source": [
        "### Visualizing Results\n",
        "\n",
        "Now we have values of $V$ for each time-step of the simulation, we can visualize the results by using Python to plot the data.  This makes use of another widely used library **matplotlib**."
      ]
    },
    {
      "cell_type": "code",
      "metadata": {
        "id": "Sabb1eHhrOPw"
      },
      "source": [
        "try:\n",
        "  check_plt = plt\n",
        "except:\n",
        "  printError()\n",
        "else:\n",
        "  # Plot the membrane potential\n",
        "  plt.plot(time[0:-2], V[0:-2])\n",
        "  plt.title('Integrate-and-Fire Model Neuron: $V$ against Time')\n",
        "  plt.xlabel('Time (ms)')\n",
        "  plt.ylabel('$V(t)$')\n",
        "  plt.hlines(-54,time[0],time[-2],colors='r',linestyles='dashed')\n",
        "\n",
        "  # Display the plot\n",
        "  plt.show()       "
      ],
      "execution_count": null,
      "outputs": []
    },
    {
      "cell_type": "markdown",
      "metadata": {
        "id": "4jx8m8-3rtU0"
      },
      "source": [
        "## Full Integrate-and-Fire Model Neuron Code"
      ]
    },
    {
      "cell_type": "code",
      "metadata": {
        "id": "OYvJGlqdr-K8"
      },
      "source": [
        "import numpy as np\n",
        "import matplotlib.pyplot as plt\n",
        "\n",
        "%matplotlib inline\n",
        "%config InlineBackend.figure_format = 'retina'\n",
        "plt.style.use(\"https://raw.githubusercontent.com/NeuromatchAcademy/course-content/master/nma.mplstyle\")\n",
        "\n",
        "# Voltage Paramaters - Units mV (1 mV = 1e-3 Volts)\n",
        "Vrest = -70\n",
        "Vth = -54 \n",
        "Vreset = -80\n",
        "Vspike = 0\n",
        "\n",
        "# Total Membrane Resistance - Units M_Ohm (1 M_Ohm = 1e6 Ohms)\n",
        "Rm = 10\n",
        "\n",
        "# Total Membrane Capacitance - Units \n",
        "Cm = 1\n",
        "\n",
        "# Membrane Time Constant - Units ms (1 ms = 1e-3 Seconds)\n",
        "tau_m = Rm*Cm\n",
        "\n",
        "# Initial V\n",
        "Vinitial = Vrest\n",
        "EL = Vrest\n",
        "\n",
        "# Simulation Time Span (0 to 500ms, dt = 1ms)\n",
        "t0 = 0\n",
        "dt = 1\n",
        "t_final = 500\n",
        "\n",
        "# Create the list of time step values\n",
        "time = range(t0, t_final, dt)\n",
        "\n",
        "# Current Pulse Time Span - Units ms (1 ms = 1e-3 Seconds)\n",
        "t_pulse = 300 \n",
        "\n",
        "# Time at which the current is applied\n",
        "start_current = np.absolute(t_final-t_pulse)/2 \n",
        "\n",
        "# Time at which the current is switched off\n",
        "end_current = start_current+t_pulse \n",
        "\n",
        "# Input Current: Ie - Units nA (1 nA = 10-9 Amperes)\n",
        "# Using 1.75 for default\n",
        "Ie = 1.75\n",
        "\n",
        "# Create a list V(t) to store the value of V at each time-step dt\n",
        "V = [0] * len(time)\n",
        "\n",
        "# Set the initial value at time t = t0 to the resting potential\n",
        "V[0] = Vrest\n",
        "\n",
        "for t in time[0:-2]:\n",
        "\n",
        "  if t < start_current or t > end_current:\n",
        "      ie = 0\n",
        "  else:\n",
        "      ie = Ie\n",
        "\n",
        "  # General Passive Integrate-and-Fire Model\n",
        "  dV = (1/tau_m)*(EL - V[t] + Rm*ie)*dt\n",
        "\n",
        "  V[t+1] = V[t] + dV\n",
        "\n",
        "  # If V crosses our threshold value Vth\n",
        "  # 1. Store the Vspike value at time t\n",
        "  # 2. Set V back to Vreset\n",
        "  if V[t+1] >= Vth:\n",
        "      V[t] = Vspike   # 1\n",
        "      V[t+1] = Vreset # 2\n",
        "\n",
        "# Plot the membrane potential\n",
        "plt.plot(time[0:-2], V[0:-2])\n",
        "plt.title('Integrate-and-Fire Model Neuron: $V$ against Time')\n",
        "plt.xlabel('Time (ms)')\n",
        "plt.ylabel('$V(t)$')\n",
        "plt.hlines(-54,time[0],time[-2],colors='r',linestyles='dashed')\n",
        "\n",
        "# Display the plot\n",
        "plt.show()   "
      ],
      "execution_count": null,
      "outputs": []
    },
    {
      "cell_type": "markdown",
      "metadata": {
        "id": "ei_xfpmPyIYo"
      },
      "source": [
        "## Simulations for Coding Challenge Problems"
      ]
    },
    {
      "cell_type": "code",
      "metadata": {
        "id": "SR7CuMsxTCwW",
        "cellView": "form"
      },
      "source": [
        "#@title Run Simulations\n",
        "#@markdown Execute the code block and use the sliders to set values in order to answer the Coding Challenge Problems in the chapter text.\n",
        "\n",
        "autoSetValues()\n",
        "\n",
        "def compute_iaf_neuron(Ie,Rm,tau_m):\n",
        "  for t in time[0:-2]:\n",
        "      if t < start_current or t > end_current:\n",
        "          ie = 0\n",
        "      else:\n",
        "          ie = Ie\n",
        "      dVt = (dt/tau_m)*(EL - V[t] + Rm*ie)\n",
        "      V[t+1] = V[t] + dVt\n",
        "      if V[t+1] >= Vth:\n",
        "          V[t] = Vspike\n",
        "          V[t+1] = Vreset\n",
        "  return V\n",
        "\n",
        "def plot_iaf_neuron(V, time):\n",
        "  plt.plot(time[0:-2], V[0:-2])\n",
        "  plt.title('Integrate-and-Fire Model Neuron: $V$ against Time')\n",
        "  plt.xlabel('Time (ms)')\n",
        "  plt.ylabel('$V(t)$')\n",
        "  plt.hlines(-54,time[0],time[-2],colors='r',linestyles='dashed')\n",
        "  plt.show()   \n",
        "\n",
        "@widgets.interact(\n",
        "  Ie=widgets.FloatSlider(1.75, min=1.50, max=2.50, step=0.01),\n",
        "  Rm=widgets.IntSlider(10, min=5, max=20, step=1)\n",
        ")\n",
        "def simulate_iaf_neuron(Ie=1.75, Rm=10):\n",
        "    Cm = 1;\n",
        "    tau_m = Rm*Cm\n",
        "    V = compute_iaf_neuron(Ie,Rm,tau_m)\n",
        "    plot_iaf_neuron(V,time)"
      ],
      "execution_count": null,
      "outputs": []
    },
    {
      "cell_type": "markdown",
      "metadata": {
        "id": "QNoKuzK6sc5E"
      },
      "source": [
        "# Appendix: Importing Libraries"
      ]
    },
    {
      "cell_type": "markdown",
      "metadata": {
        "id": "ODMhsl97tBp-"
      },
      "source": [
        "Here, we introduce a feature of Python necessary for many applications: *importing libraries*, sometimes called *packages* or *modules*.\n",
        "\n",
        "Consider a scenario where you have a small dataset of numerical values:"
      ]
    },
    {
      "cell_type": "code",
      "metadata": {
        "id": "nqBwwqCBtCdG"
      },
      "source": [
        "# Finding the maximum value\n",
        "\n",
        "# We use this variable to keep track of the largest value we come across\n",
        "max_value = 0\n",
        "\n",
        "# A for-loop: for each number in our data set data\n",
        "for num in data:\n",
        "  # If this number is larger than the current max_value\n",
        "  if num > max_value:\n",
        "    # Then set max_value to this value\n",
        "    max_value = num\n",
        "\n",
        "# Print the result of our algorithm to find the maximum value.\n",
        "print('Maximum Value: %i' % max_value)"
      ],
      "execution_count": null,
      "outputs": []
    },
    {
      "cell_type": "markdown",
      "metadata": {
        "id": "V7ffcRK8tCdL"
      },
      "source": [
        "By running the previous code, it should have found the maximum value and the output from the print function is:\n",
        "\n",
        "`Maximum Value: 99`\n",
        "\n",
        "Now you are tasked with finding the average value in the data set.  We find this by adding the values of the data set and dividing by the number of values.\n",
        "\n",
        "The following code is another simple algorithm for computing the average value of a given data set of numerical values:"
      ]
    },
    {
      "cell_type": "code",
      "metadata": {
        "id": "HlhCsVd8tCdL"
      },
      "source": [
        "# Finding the average value\n",
        "\n",
        "# Keep track of the total sum of the data set.\n",
        "sum_of_data = 0\n",
        "\n",
        "# Let N be the total number of data values\n",
        "N = 0\n",
        "\n",
        "# A for-loop: for each number in our data set data\n",
        "for num in data:\n",
        "  # Update our variable: sum_of_data by adding each value\n",
        "  # Note that we do not want to overwrite the value of sum_of_data, but rather \n",
        "  # add to the current value\n",
        "  sum_of_data = sum_of_data + num\n",
        "\n",
        "  # Update our variable: N by adding 1 for each number we encounter\n",
        "  N = N + 1\n",
        "\n",
        "# Finally, compute the average value\n",
        "average = sum_of_data/N;\n",
        "\n",
        "# Print the result of our algorithm to find the average value to 2 decimals.\n",
        "print('Average Value: %.2f' % average)"
      ],
      "execution_count": null,
      "outputs": []
    },
    {
      "cell_type": "markdown",
      "metadata": {
        "id": "p2KW3nybtCdL"
      },
      "source": [
        "By running the previous code, it should have found the average value and the output from the print function is:\n",
        "\n",
        "`Average Value: 68.46`\n",
        "\n",
        "Now, how does this relate to the concept of **importing libraries**?  Think about the previous algorithms and what they do.  There are innumerable applications in which finding the maximum or average values are necessary.\n",
        "\n",
        "Do we really need to write these algorithms every single time we need to find the average or maximum values of a data set?\n",
        "\n",
        "Fortunately, the answer is no!  This is a scenario where we can import a *library* or *package*.  A library is a code base that comes with pre-packaged algorithms ready for you to use.  In other words, another Python programmer has already written the code above, and they are nice enough to allow anyone to use their code.\n",
        "\n",
        "Let us see how this works by finding the maximum and average values of our data set using a library called **numpy**:\n"
      ]
    },
    {
      "cell_type": "code",
      "metadata": {
        "id": "W21g2UqItCdL"
      },
      "source": [
        "# Finding the maximum and average values of our small data set\n",
        "\n",
        "# We import the numpy library, and name the import 'np' \n",
        "# np is conventional, however you can call it anything you like\n",
        "# i.e 'import numpy as abcdefg'\n",
        "import numpy as np\n",
        "\n",
        "# First, we find the maximum value and print the result:\n",
        "max_value = np.max(data)\n",
        "print('Maximum Value: %i' % max_value)\n",
        "\n",
        "# Next, we find the average value and print the result:\n",
        "average = np.mean(data)\n",
        "print('Average Value: %.2f' % average)"
      ],
      "execution_count": null,
      "outputs": []
    },
    {
      "cell_type": "markdown",
      "metadata": {
        "id": "Z55NF42YtCdL"
      },
      "source": [
        "Much easier right?  Note that we compute and output the results using the **numpy** library which already has the algorithms *max* and *mean* to do the job of our previous code in a single line!\n",
        "\n",
        "These are just some basic examples, there are over 200,000 of these libraries providing access to algorithms helping us to avoid writing unnecessary code.\n",
        "\n",
        "Visit https://pypi.org/ and look around for libraries and packages ready to be imported into your code!"
      ]
    }
  ]
}