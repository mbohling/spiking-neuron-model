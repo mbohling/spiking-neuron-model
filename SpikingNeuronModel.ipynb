{
  "nbformat": 4,
  "nbformat_minor": 0,
  "metadata": {
    "colab": {
      "name": "SNM-Integrate-and-Fire.ipynb",
      "private_outputs": true,
      "provenance": [],
      "collapsed_sections": [],
      "toc_visible": true,
      "authorship_tag": "ABX9TyOzT+3+m6lmlnctq1iCCihz",
      "include_colab_link": true
    },
    "kernelspec": {
      "name": "python3",
      "display_name": "Python 3"
    }
  },
  "cells": [
    {
      "cell_type": "markdown",
      "metadata": {
        "id": "view-in-github",
        "colab_type": "text"
      },
      "source": [
        "<a href=\"https://colab.research.google.com/github/mbohling/spiking-neuron-model/blob/main/SpikingNeuronModel.ipynb\" target=\"_parent\"><img src=\"https://colab.research.google.com/assets/colab-badge.svg\" alt=\"Open In Colab\"/></a>"
      ]
    },
    {
      "cell_type": "markdown",
      "metadata": {
        "id": "KSRd-kms3mOU"
      },
      "source": [
        "#The Spiking Neuron Model - Coding Challenge Problems\n",
        "This interactive document is meant to be followed as the reader makes their way through chapter: *The Spiking Neuron Model*.  Each model presented in the chapter will have a section consisting of a step-by-step walkthrough of a simple Python implementation.  This is followed by an interface to run simulations with different parameter values to answer the Coding Challenge Problems.\n",
        "\n",
        "\n",
        "**Content creators**: Maxwell E. Bohling, Dr. Lawrence Udeigwe"
      ]
    },
    {
      "cell_type": "markdown",
      "metadata": {
        "id": "9TSI7O4anITj"
      },
      "source": [
        "### Setup\r\n",
        "\r\n",
        "**Task(s)**:\r\n",
        "1.   Execute the code block. **Initialize Setup**"
      ]
    },
    {
      "cell_type": "code",
      "metadata": {
        "cellView": "form",
        "id": "6pMADAlmVDSp"
      },
      "source": [
        "#@title Initialize Setup\r\n",
        "import sys\r\n",
        "import functools as ft\r\n",
        "import numpy as np\r\n",
        "import matplotlib.pyplot as plt\r\n",
        "import ipywidgets as widgets\r\n",
        "import scipy as sc\r\n",
        "\r\n",
        "%matplotlib inline\r\n",
        "%config InlineBackend.figure_format = 'retina'\r\n",
        "plt.style.use(\"https://raw.githubusercontent.com/NeuromatchAcademy/course-content/master/nma.mplstyle\")\r\n",
        "\r\n",
        "def printError():\r\n",
        "  message = 'Not all tasks completed!\\n\\n'  \r\n",
        "  message = message + 'Check for the following:\\n\\n'\r\n",
        "  message = message + '\\t1.  Variables are set to the correct values.  Make sure to replace any instances of \\'None\\'.\\n'\r\n",
        "  message = message + '\\t2.  All previous code blocks have been run the order they appear and output a success message.\\n'\r\n",
        "  message = message + '\\t3.  With the exception of the code changes necessary to complete each task, no other code has been altered.\\n\\n'\r\n",
        "  message = message + 'then try running the code block again.\\n'\r\n",
        "  print(message)\r\n",
        "\r\n",
        "def printSuccess():\r\n",
        "  message = 'All tasks completed!  Move on to the next section.'\r\n",
        "  print(message)\r\n",
        "\r\n",
        "def checkVoltageParameters(Vrest, Vth, Vreset, Vspike):\r\n",
        "  # Check: IAF-Voltage-Parameters\r\n",
        "  print('Checking Voltage Parameters...\\n')\r\n",
        "  try:\r\n",
        "      check_Vrest = Vrest\r\n",
        "      check_Vth = Vth\r\n",
        "      check_Vreset = Vreset\r\n",
        "      check_Vspike = Vspike\r\n",
        "  except:\r\n",
        "    printError()\r\n",
        "  else:\r\n",
        "    vals = [Vrest, Vth, Vreset, Vspike]\r\n",
        "    correct_vals = [-70, -54, -80, 0]\r\n",
        "    if ft.reduce(lambda i, j : i and j, map(lambda m, k: m == k, vals, correct_vals),  True):  \r\n",
        "      printSuccess()\r\n",
        "    else:\r\n",
        "      printError()\r\n",
        " \r\n",
        "def checkNeuronProperties(Rm, Cm, tau_m):\r\n",
        "  # Check: IAF-Neuron-Properties\r\n",
        "  print('Checking Neuron Properties...\\n')\r\n",
        "  try:\r\n",
        "      check_Rm = Rm\r\n",
        "      check_Cm = Cm\r\n",
        "      check_tau_m = tau_m\r\n",
        "  except:\r\n",
        "    printError()\r\n",
        "  else:\r\n",
        "    vals = [Rm, Cm, tau_m]\r\n",
        "    correct_vals = [10, 1, 10]\r\n",
        "    if ft.reduce(lambda i, j : i and j, map(lambda m, k: m == k, vals, correct_vals),  True):  \r\n",
        "      printSuccess()\r\n",
        "    else:\r\n",
        "      printError()\r\n",
        "\r\n",
        "def checkSimulationSetup(Vrest, Vinitial, EL, t0, dt, t_final, time, Ie, t_pulse, start_current, end_current):\r\n",
        "  # Check: IAF-Simulation-Setup\r\n",
        "  print('Checking Simulation Setup...\\n')\r\n",
        "  try:\r\n",
        "    check_Vrest = Vrest\r\n",
        "    check_Vinitial = Vinitial\r\n",
        "    check_EL = EL\r\n",
        "    check_t0 = t0\r\n",
        "    check_dt = dt\r\n",
        "    check_t_final = t_final\r\n",
        "    check_time = time\r\n",
        "    check_Ie = Ie\r\n",
        "    check_t_pulse = t_pulse\r\n",
        "    check_start_current = start_current\r\n",
        "    check_end_current = end_current\r\n",
        "  except:\r\n",
        "    printError()\r\n",
        "  else:\r\n",
        "    vals = [Vrest, Vinitial, EL, t0, dt, t_final, Ie, t_pulse, start_current, end_current]\r\n",
        "    correct_vals = [-70, -70, -70, 0, 1, 500, 1.75, 300, 100, 400]\r\n",
        "    if ft.reduce(lambda i, j : i and j, map(lambda m, k: m == k, vals, correct_vals),  True):  \r\n",
        "      if len(time) == 500 and time[0] == 0 and time[-1] == 499:\r\n",
        "        printSuccess()\r\n",
        "      else:\r\n",
        "        printError()\r\n",
        "    else:\r\n",
        "      printError()\r\n",
        "\r\n",
        "def autoSetValues():\r\n",
        "  Vrest = -70\r\n",
        "  Vth = -54 \r\n",
        "  Vreset = -80\r\n",
        "  Vspike = 0\r\n",
        "  Vinitial = Vrest\r\n",
        "  EL = Vrest\r\n",
        "  t0 = 0\r\n",
        "  dt = 1\r\n",
        "  t_final = 500\r\n",
        "  time = range(t0, t_final, dt)\r\n",
        "  t_pulse = 300 \r\n",
        "  start_current = np.absolute(t_final-t_pulse)/2 \r\n",
        "  end_current = start_current+t_pulse \r\n",
        "  V = [0] * len(time)\r\n",
        "  V[0] = Vrest\r\n",
        "\r\n",
        "try:\r\n",
        "  check_sys = sys\r\n",
        "except:\r\n",
        "  printError()\r\n",
        "else:\r\n",
        "  modulename = 'functools'\r\n",
        "  if modulename not in sys.modules:\r\n",
        "    printError()\r\n",
        "  else:\r\n",
        "    printSuccess()"
      ],
      "execution_count": null,
      "outputs": []
    },
    {
      "cell_type": "markdown",
      "metadata": {
        "id": "KNjzRUaW3myQ"
      },
      "source": [
        "## The Integrate-and-Fire Spiking Neuron Model: Python Implementation\n",
        "Recall that the basic equation is expressed as follows:\n",
        "\n",
        "$ \\displaystyle \\tau_{m}\\frac{dV}{dt} = E_{L} - V(t) + R_{m}I_{e} $\n",
        "\n",
        "\n"
      ]
    },
    {
      "cell_type": "markdown",
      "metadata": {
        "id": "ty3D8yxC3pWU"
      },
      "source": [
        "### Voltage Parameters\n",
        "\n",
        "Start by defining the Voltage-Parameters that determine the resting, threshold, spike, and reset values:\n",
        "\n",
        "*   $ V_{rest} = -70\\;mV $\n",
        "*   $ V_{th} = -54\\;mV $\n",
        "*   $ V_{reset} = -80\\;mV $\n",
        "*   $ V_{spike} = 0\\;mV $\n",
        "\n",
        "**Task(s)**:\n",
        "2.   Replace `None` with the correct values given above.\n",
        "3.   Execute the code block.\n",
        "\n",
        "\n",
        "\n",
        "\n",
        "\n"
      ]
    },
    {
      "cell_type": "code",
      "metadata": {
        "id": "Th4-o6DP6yWY"
      },
      "source": [
        "# Voltage Parameters - Units mV (1 mV = 1e-3 Volts)\n",
        "Vrest = -70\n",
        "Vth = None\n",
        "Vreset = None\n",
        "Vspike = None\n",
        "\n",
        "#-----------------------------------------------------------------------------------#\n",
        "# Leave this code as is.\n",
        "\n",
        "checkVoltageParameters(Vrest,Vth,Vreset,Vspike)\n",
        "#-----------------------------------------------------------------------------------#"
      ],
      "execution_count": null,
      "outputs": []
    },
    {
      "cell_type": "markdown",
      "metadata": {
        "id": "D6IJSMA47EDM"
      },
      "source": [
        "### Neuron Properties\n",
        "We now need to define the values for the Membrane Resistance $ R_{m} $, the Membrane Capacitance, $ C_{m} $, and calculate the Membrane Time Constant.  Use the following values:\n",
        "\n",
        "*    $ R_{m} = 10\\;M\\Omega $\n",
        "*    $ C_{m} = 1\\;nF $\n",
        "*    $ \\tau_{m} = R_{m}C_{m} $\n",
        "\n",
        "**Task(s)**:\n",
        "4.   Replace `None` with the correct values given above.\n",
        "5.   Execute the code block.\n",
        "\n"
      ]
    },
    {
      "cell_type": "code",
      "metadata": {
        "id": "4yNOY1m38LzY"
      },
      "source": [
        "# Total Membrane Resistance - Units M_Ohm (1 M_Ohm = 1e6 Ohms)\n",
        "Rm = None\n",
        "\n",
        "# Total Membrane Capacitance - Units  nF (1 nF= 1e-9 Farads)\n",
        "Cm = None\n",
        "\n",
        "#-----------------------------------------------------------------------------------#\n",
        "# Leave this code as is.\n",
        "\n",
        "try:\n",
        "# Membrane Time Constant - Units ms (1 ms = 1e-3 Seconds)\n",
        "  tau_m = Rm*Cm\n",
        "except:\n",
        "  printError()\n",
        "else:\n",
        "  checkNeuronProperties(Rm,Cm,tau_m)\n",
        "#-----------------------------------------------------------------------------------#"
      ],
      "execution_count": null,
      "outputs": []
    },
    {
      "cell_type": "markdown",
      "metadata": {
        "id": "uMrGRECm0QH0"
      },
      "source": [
        "### Simulation Setup\n",
        "We want to run a simulation of the integrate-and-fire model neuron in order to observe the evolution of the membrane potential $V$ overtime.  We begin with the neuron at resting conditions: $V = V_{rest} = -70mV$.\n",
        "\n",
        "Recall that the reversal potential $E_{L} = V_{rest}$.  Since we have defined $V_{rest}$ above, we can set the following parameters.\n",
        "\n",
        "**Task(s)**:\n",
        "6.   Execute the code block.\n"
      ]
    },
    {
      "cell_type": "code",
      "metadata": {
        "id": "ehrzVqAF1QKQ"
      },
      "source": [
        "#-----------------------------------------------------------------------------------#\n",
        "# Leave this code as is.\n",
        "\n",
        "try:\n",
        "  # Initial Voltage\n",
        "  Vinitial = Vrest\n",
        "\n",
        "  # Leakage Conductance Reversal Potential\n",
        "  EL = Vrest\n",
        "except:\n",
        "  printError()\n",
        "else:\n",
        "  printSuccess()\n",
        "#-----------------------------------------------------------------------------------#"
      ],
      "execution_count": null,
      "outputs": []
    },
    {
      "cell_type": "markdown",
      "metadata": {
        "id": "Nmw6RkH93eAY"
      },
      "source": [
        "We will be running a 500 ms simulation.  The following lines of code setup a time span for the simulation.  This is simply a matter of defining the start time $t_{0} = 0$ and the total length (in ms) of the simulation: $t_{final} = 500$.  \n",
        "\n",
        "Throughout the simulation, we calculate the membrane potential $V$ at each *time-step*.  The time-step is the change in time for each iteration of the simulation, for example if $t_{0} = 0$, the next computation of $V$ is performed at $t_{0} + dt$.  \n",
        "\n",
        "Thus, by setting $dt = 1$ (in ms), the simulation will compute $V$ at time $t = 1, 2, \\ldots, t_{final}$.  For $dt = 1$, we compute $V$ at every 1 ms until the end of the simulation is reached.\n",
        "\n",
        "**Task(s)**:\n",
        "7.   Replace `None` with the correct values given above.\n",
        "8.   Execute the code block."
      ]
    },
    {
      "cell_type": "code",
      "metadata": {
        "id": "Nto9i4b0H5uU"
      },
      "source": [
        "# Simulation Time Span (0 to 500ms, dt = 1ms)\n",
        "t0 = None\n",
        "dt = None\n",
        "t_final = None\n",
        "\n",
        "#-----------------------------------------------------------------------------------#\n",
        "# Leave this code as is.\n",
        "\n",
        "try:\n",
        "  time = range(t0, t_final, dt)\n",
        "except:\n",
        "  printError()\n",
        "else:\n",
        "  if len(time) == 500 and time[0] == 0 and time[-1] == 499:\n",
        "    printSuccess()\n",
        "  else:\n",
        "    printError()\n",
        "#-----------------------------------------------------------------------------------#"
      ],
      "execution_count": null,
      "outputs": []
    },
    {
      "cell_type": "markdown",
      "metadata": {
        "id": "RazSL8WEbvYI"
      },
      "source": [
        "We must define one last parameter, and that is the injected current $I_{e}$.  There are two aspects of this parameter that must be defined: the strength of the current measured in nanoamperes (nA), and the time values at which the current is switched on and off.\n",
        "\n",
        "**Task(s)**:\n",
        "9.   Execute the code block."
      ]
    },
    {
      "cell_type": "code",
      "metadata": {
        "id": "ET5qtPsSd7GU"
      },
      "source": [
        "#-----------------------------------------------------------------------------------#\n",
        "# Leave this code as is.\n",
        "\n",
        "# Input Current: Ie - Units nA (1 nA = 10-9 Amperes)\n",
        "Ie = 1.75\n",
        "\n",
        "try:\n",
        "  check_Ie = Ie\n",
        "except:\n",
        "  printError()\n",
        "else:\n",
        "  if Ie == 1.75:\n",
        "    printSuccess()\n",
        "  else:\n",
        "    printError()\n",
        "#-----------------------------------------------------------------------------------#"
      ],
      "execution_count": null,
      "outputs": []
    },
    {
      "cell_type": "markdown",
      "metadata": {
        "id": "w3r4kuazd-6E"
      },
      "source": [
        "Recall that we have set up the simulation to run for 500ms.  We want to begin applying the injected current $I_{e}$ at 100ms, and switch it off at 400 ms.\n",
        "\n",
        "To do this we define the variables:\n",
        "*    $ t_{pulse} = 300\\ ms $ \n",
        "*    $ start_{current} = \\displaystyle \\frac{\\left|t_{final}-t_{pulse}\\right|}{2} = \\frac{\\left|500-300\\right|}{2} = 100\\ ms$ \n",
        "*    $ end_{current} = start_{current} + t_{pulse} = 100 + 300 = 400\\ ms $\n",
        "\n",
        "**Task(s)**:\n",
        "10.   Execute the code block."
      ]
    },
    {
      "cell_type": "code",
      "metadata": {
        "id": "-foxqPxkepXQ"
      },
      "source": [
        "#-----------------------------------------------------------------------------------#\n",
        "# Leave this code as is.\n",
        "\n",
        "try:\n",
        "  # Current Pulse Time Span - Units ms (1 ms = 1e-3 Seconds)\n",
        "  t_pulse = 300 \n",
        "\n",
        "  # Time at which the current is applied\n",
        "  start_current = np.absolute(t_final-t_pulse)/2 \n",
        "\n",
        "  # Time at which the current is switched off\n",
        "  end_current = start_current+t_pulse \n",
        "except:\n",
        "  printError()\n",
        "else:\n",
        "  checkSimulationSetup(Vrest, Vinitial, EL, t0, dt, t_final, time, Ie, t_pulse, start_current, end_current)\n",
        "#-----------------------------------------------------------------------------------#"
      ],
      "execution_count": null,
      "outputs": []
    },
    {
      "cell_type": "markdown",
      "metadata": {
        "id": "STna6uUthJfs"
      },
      "source": [
        "### Computing and Storing $\\frac{dV}{dt}$\n",
        "\n",
        "We are about ready to finish the code implementation for simulating an integrate-and-fire model neuron.\n",
        "\n",
        "We only need some way to store the values of the membrane potential $V$ at each time step.  To do this, we simply create an empty list $V(t)$ with a length equal to the number of time-steps of our simulation.  We then set $V(t_{0}) = V(0) = V_{rest}$ as we begin our simulation at resting conditions.\n",
        "\n",
        "**Task(s)**:\n",
        "11.   Execute the code block."
      ]
    },
    {
      "cell_type": "code",
      "metadata": {
        "id": "xHJWJGzvip1U"
      },
      "source": [
        "#-----------------------------------------------------------------------------------#\n",
        "# Leave this code as is.\n",
        "\n",
        "try:\n",
        "  # Create a list V(t) to store the value of V at each time-step dt\n",
        "  V = [0] * len(time)\n",
        "\n",
        "  # Set the initial value at time t = t0 to the initial value Vinitial\n",
        "  V[0] =  Vinitial\n",
        "except:\n",
        "  printError()\n",
        "else:\n",
        "  printSuccess()"
      ],
      "execution_count": null,
      "outputs": []
    },
    {
      "cell_type": "markdown",
      "metadata": {
        "id": "ffea_pxNk2T8"
      },
      "source": [
        "Finally, we run our simulation according to the following *psuedocode*\n",
        "\n",
        "---\n",
        "\n",
        "*for each time-step from $t = t_{0}$ to $t = t_{final}$*\n",
        "> *If the current time $t < start_{current}\\ $ or $\\ t > end_{current}$*\n",
        ">> $I_{e} = 0$\n",
        "\n",
        "> *otherwise*\n",
        ">> $I_{e} = 1.75\\ nA$\n",
        "\n",
        "> *Use Euler's Method of Numerical Integration to determine the change in membrane potential $\\ dV$ as: $\\ \\displaystyle dV = \\frac{dt}{\\tau_{m}}(E_{L} - V(t) + R_{m}I_{e})$*\n",
        "\n",
        "> *Update $V(t+1) = V(t) + dV$*\n",
        "\n",
        "> *If $\\ V(t+1) \\geq V_{th} $* \n",
        ">> $V(t) = V_{spike}$\n",
        "\n",
        ">> $V(t+1) = V_{reset}$\n",
        "\n",
        "*end*\n",
        "\n",
        "---\n",
        "\n",
        "This translates to the following Python code.\n",
        "\n",
        "**Task(s)**:\n",
        "12.   Execute the code block."
      ]
    },
    {
      "cell_type": "code",
      "metadata": {
        "id": "sFny5AqI3XIs"
      },
      "source": [
        "#-----------------------------------------------------------------------------------#\n",
        "# Leave this code as is.\n",
        "try:\n",
        "  # For each timestep we compute V and store the value\n",
        "  for t in time[0:-2]:\n",
        "\n",
        "      # If time t < 100 ms, we do not turn the Injected Current on yet.\n",
        "      # If time t > 400ms, we turn the Injected Current off.\n",
        "      if t < start_current or t > end_current:\n",
        "          ie = 0\n",
        "      # Otherwise, we switch on the Injected Current \n",
        "      else:\n",
        "          ie = Ie\n",
        "\n",
        "      # Using Euler's Method for Numerical Integration (See Chapter Text)\n",
        "      # we compute the change in voltage dV as follows (using the model equation)\n",
        "      dVt = (dt/tau_m)*(EL - V[t] + Rm*ie)\n",
        "\n",
        "      # Store this new value into our list\n",
        "      V[t+1] = V[t] + dVt\n",
        "\n",
        "      # If the voltage value we computed crosses the threshold value Vth, a spike occurs.\n",
        "      if V[t+1] >= Vth:\n",
        "          # In the event of a spike, the membrane potential spikes up to Vspike mV\n",
        "          V[t] = Vspike\n",
        "          # Followed by immediate hyperpolarization to its Vreset value.\n",
        "          V[t+1] = Vreset\n",
        "except:\n",
        "  printError()\n",
        "else:\n",
        "  printSuccess()"
      ],
      "execution_count": null,
      "outputs": []
    },
    {
      "cell_type": "markdown",
      "metadata": {
        "id": "JB26_01yqrdM"
      },
      "source": [
        "### Visualizing Results\n",
        "\n",
        "Now we have values of $V$ for each time-step of the simulation, we can visualize the results by using Python to plot the data.  This makes use of another widely used library **matplotlib**.\n",
        "\n",
        "**Task(s)**:\n",
        "13.   Execute the code block."
      ]
    },
    {
      "cell_type": "code",
      "metadata": {
        "id": "Sabb1eHhrOPw"
      },
      "source": [
        "#-----------------------------------------------------------------------------------#\n",
        "# Leave this code as is.\n",
        "\n",
        "try:\n",
        "  check_plt = plt\n",
        "except:\n",
        "  printError()\n",
        "else:\n",
        "  # Plot the membrane potential\n",
        "  plt.plot(time[0:-2], V[0:-2])\n",
        "  plt.title('Integrate-and-Fire Model Neuron: $V$ against Time')\n",
        "  plt.xlabel('Time (ms)')\n",
        "  plt.ylabel('$V(t)$')\n",
        "  plt.hlines(-54,time[0],time[-2],colors='r',linestyles='dashed')\n",
        "\n",
        "  # Display the plot\n",
        "  plt.show()   \n",
        "#-----------------------------------------------------------------------------------#                "
      ],
      "execution_count": null,
      "outputs": []
    },
    {
      "cell_type": "markdown",
      "metadata": {
        "id": "4jx8m8-3rtU0"
      },
      "source": [
        "## Full Integrate-and-Fire Model Neuron Code"
      ]
    },
    {
      "cell_type": "code",
      "metadata": {
        "id": "OYvJGlqdr-K8"
      },
      "source": [
        "import numpy as np\n",
        "import matplotlib.pyplot as plt\n",
        "\n",
        "%matplotlib inline\n",
        "%config InlineBackend.figure_format = 'retina'\n",
        "plt.style.use(\"https://raw.githubusercontent.com/NeuromatchAcademy/course-content/master/nma.mplstyle\")\n",
        "\n",
        "# Voltage Paramaters - Units mV (1 mV = 1e-3 Volts)\n",
        "Vrest = -70\n",
        "Vth = -54 \n",
        "Vreset = -80\n",
        "Vspike = 0\n",
        "\n",
        "# Total Membrane Resistance - Units M_Ohm (1 M_Ohm = 1e6 Ohms)\n",
        "Rm = 10\n",
        "\n",
        "# Total Membrane Capacitance - Units \n",
        "Cm = 1\n",
        "\n",
        "# Membrane Time Constant - Units ms (1 ms = 1e-3 Seconds)\n",
        "tau_m = Rm*Cm\n",
        "\n",
        "# Initial V\n",
        "Vinitial = Vrest\n",
        "EL = Vrest\n",
        "\n",
        "# Simulation Time Span (0 to 500ms, dt = 1ms)\n",
        "t0 = 0\n",
        "dt = 1\n",
        "t_final = 500\n",
        "\n",
        "# Create the list of time step values\n",
        "time = range(t0, t_final, dt)\n",
        "\n",
        "# Current Pulse Time Span - Units ms (1 ms = 1e-3 Seconds)\n",
        "t_pulse = 300 \n",
        "\n",
        "# Time at which the current is applied\n",
        "start_current = np.absolute(t_final-t_pulse)/2 \n",
        "\n",
        "# Time at which the current is switched off\n",
        "end_current = start_current+t_pulse \n",
        "\n",
        "# Input Current: Ie - Units nA (1 nA = 10-9 Amperes)\n",
        "# Using 1.75 for default\n",
        "Ie = 1.75\n",
        "\n",
        "# Create a list V(t) to store the value of V at each time-step dt\n",
        "V = [0] * len(time)\n",
        "\n",
        "# Set the initial value at time t = t0 to the resting potential\n",
        "V[0] = Vrest\n",
        "\n",
        "for t in time[0:-2]:\n",
        "\n",
        "  if t < start_current or t > end_current:\n",
        "      ie = 0\n",
        "  else:\n",
        "      ie = Ie\n",
        "\n",
        "  # General Passive Integrate-and-Fire Model\n",
        "  dV = (1/tau_m)*(EL - V[t] + Rm*ie)*dt\n",
        "\n",
        "  V[t+1] = V[t] + dV\n",
        "\n",
        "  # If V crosses our threshold value Vth\n",
        "  # 1. Store the Vspike value at time t\n",
        "  # 2. Set V back to Vreset\n",
        "  if V[t+1] >= Vth:\n",
        "      V[t] = Vspike   # 1\n",
        "      V[t+1] = Vreset # 2\n",
        "\n",
        "# Plot the membrane potential\n",
        "plt.plot(time[0:-2], V[0:-2])\n",
        "plt.title('Integrate-and-Fire Model Neuron: $V$ against Time')\n",
        "plt.xlabel('Time (ms)')\n",
        "plt.ylabel('$V(t)$')\n",
        "plt.hlines(-54,time[0],time[-2],colors='r',linestyles='dashed')\n",
        "# Display the plot\n",
        "plt.show()   "
      ],
      "execution_count": null,
      "outputs": []
    },
    {
      "cell_type": "markdown",
      "metadata": {
        "id": "ei_xfpmPyIYo"
      },
      "source": [
        "## Simulations for Coding Challenge Problems"
      ]
    },
    {
      "cell_type": "code",
      "metadata": {
        "cellView": "form",
        "id": "SR7CuMsxTCwW"
      },
      "source": [
        "#@title Run Simulations\r\n",
        "\r\n",
        "#@markdown **Task(s)**:\r\n",
        "#@markdown Execute the code block and use the sliders to set values in order to answer the Coding Challenge Problems in the chapter text.\r\n",
        "\r\n",
        "autoSetValues()\r\n",
        "\r\n",
        "def compute_iaf_neuron(Ie,Rm,tau_m):\r\n",
        "  for t in time[0:-2]:\r\n",
        "      if t < start_current or t > end_current:\r\n",
        "          ie = 0\r\n",
        "      else:\r\n",
        "          ie = Ie\r\n",
        "      dVt = (dt/tau_m)*(EL - V[t] + Rm*ie)\r\n",
        "      V[t+1] = V[t] + dVt\r\n",
        "      if V[t+1] >= Vth:\r\n",
        "          V[t] = Vspike\r\n",
        "          V[t+1] = Vreset\r\n",
        "  return V\r\n",
        "\r\n",
        "def plot_iaf_neuron(V, time):\r\n",
        "  plt.plot(time[0:-2], V[0:-2])\r\n",
        "  plt.title('Integrate-and-Fire Model Neuron: $V$ against Time')\r\n",
        "  plt.xlabel('Time (ms)')\r\n",
        "  plt.ylabel('$V(t)$')\r\n",
        "  plt.hlines(-54,time[0],time[-2],colors='r',linestyles='dashed')\r\n",
        "  plt.show()   \r\n",
        "\r\n",
        "@widgets.interact(\r\n",
        "  Ie=widgets.FloatSlider(1.75, min=1.50, max=2.50, step=0.01),\r\n",
        "  Rm=widgets.IntSlider(10, min=5, max=20, step=1)\r\n",
        ")\r\n",
        "def simulate_iaf_neuron(Ie=1.75, Rm=10):\r\n",
        "    Cm = 1;\r\n",
        "    tau_m = Rm*Cm\r\n",
        "    V = compute_iaf_neuron(Ie,Rm,tau_m)\r\n",
        "    plot_iaf_neuron(V,time)"
      ],
      "execution_count": null,
      "outputs": []
    },
    {
      "cell_type": "markdown",
      "metadata": {
        "id": "vqPql8sNflsw"
      },
      "source": [
        "# Extending the Model: Spike-Rate Adaptation"
      ]
    },
    {
      "cell_type": "markdown",
      "metadata": {
        "id": "QNoKuzK6sc5E"
      },
      "source": [
        "# Appendix: Importing Libraries"
      ]
    },
    {
      "cell_type": "markdown",
      "metadata": {
        "id": "ODMhsl97tBp-"
      },
      "source": [
        "Here, we introduce a feature of Python necessary for many applications: *importing libraries*, sometimes called *packages* or *modules*.\r\n",
        "\r\n",
        "Consider a scenario where you have a small dataset of numerical values:"
      ]
    },
    {
      "cell_type": "code",
      "metadata": {
        "id": "nqBwwqCBtCdG"
      },
      "source": [
        "# Finding the maximum value\n",
        "\n",
        "# We use this variable to keep track of the largest value we come across\n",
        "max_value = 0\n",
        "\n",
        "# A for-loop: for each number in our data set data\n",
        "for num in data:\n",
        "  # If this number is larger than the current max_value\n",
        "  if num > max_value:\n",
        "    # Then set max_value to this value\n",
        "    max_value = num\n",
        "\n",
        "# Print the result of our algorithm to find the maximum value.\n",
        "print('Maximum Value: %i' % max_value)"
      ],
      "execution_count": null,
      "outputs": []
    },
    {
      "cell_type": "markdown",
      "metadata": {
        "id": "V7ffcRK8tCdL"
      },
      "source": [
        "By running the previous code, it should have found the maximum value and the output from the print function is:\n",
        "\n",
        "`Maximum Value: 99`\n",
        "\n",
        "Now you are tasked with finding the average value in the data set.  We find this by adding the values of the data set and dividing by the number of values.\n",
        "\n",
        "The following code is another simple algorithm for computing the average value of a given data set of numerical values:"
      ]
    },
    {
      "cell_type": "code",
      "metadata": {
        "id": "HlhCsVd8tCdL"
      },
      "source": [
        "# Finding the average value\n",
        "\n",
        "# Keep track of the total sum of the data set.\n",
        "sum_of_data = 0\n",
        "\n",
        "# Let N be the total number of data values\n",
        "N = 0\n",
        "\n",
        "# A for-loop: for each number in our data set data\n",
        "for num in data:\n",
        "  # Update our variable: sum_of_data by adding each value\n",
        "  # Note that we do not want to overwrite the value of sum_of_data, but rather \n",
        "  # add to the current value\n",
        "  sum_of_data = sum_of_data + num\n",
        "\n",
        "  # Update our variable: N by adding 1 for each number we encounter\n",
        "  N = N + 1\n",
        "\n",
        "# Finally, compute the average value\n",
        "average = sum_of_data/N;\n",
        "\n",
        "# Print the result of our algorithm to find the average value to 2 decimals.\n",
        "print('Average Value: %.2f' % average)"
      ],
      "execution_count": null,
      "outputs": []
    },
    {
      "cell_type": "markdown",
      "metadata": {
        "id": "p2KW3nybtCdL"
      },
      "source": [
        "By running the previous code, it should have found the average value and the output from the print function is:\n",
        "\n",
        "`Average Value: 68.46`\n",
        "\n",
        "Now, how does this relate to the concept of **importing libraries**?  Think about the previous algorithms and what they do.  There are innumerable applications in which finding the maximum or average values are necessary.\n",
        "\n",
        "Do we really need to write these algorithms every single time we need to find the average or maximum values of a data set?\n",
        "\n",
        "Fortunately, the answer is no!  This is a scenario where we can import a *library* or *package*.  A library is a code base that comes with pre-packaged algorithms ready for you to use.  In other words, another Python programmer has already written the code above, and they are nice enough to allow anyone to use their code.\n",
        "\n",
        "Let us see how this works by finding the maximum and average values of our data set using a library called **numpy**:\n"
      ]
    },
    {
      "cell_type": "code",
      "metadata": {
        "id": "W21g2UqItCdL"
      },
      "source": [
        "# Finding the maximum and average values of our small data set\n",
        "\n",
        "# We import the numpy library, and name the import 'np' \n",
        "# np is conventional, however you can call it anything you like\n",
        "# i.e 'import numpy as abcdefg'\n",
        "import numpy as np\n",
        "\n",
        "# First, we find the maximum value and print the result:\n",
        "max_value = np.max(data)\n",
        "print('Maximum Value: %i' % max_value)\n",
        "\n",
        "# Next, we find the average value and print the result:\n",
        "average = np.mean(data)\n",
        "print('Average Value: %.2f' % average)"
      ],
      "execution_count": null,
      "outputs": []
    },
    {
      "cell_type": "markdown",
      "metadata": {
        "id": "Z55NF42YtCdL"
      },
      "source": [
        "Much easier right?  Note that we compute and output the results using the **numpy** library which already has the algorithms *max* and *mean* to do the job of our previous code in a single line!\n",
        "\n",
        "These are just some basic examples, there are over 200,000 of these libraries providing access to algorithms helping us to avoid writing unnecessary code.\n",
        "\n",
        "Visit https://pypi.org/ and look around for libraries and packages ready to be imported into your code!"
      ]
    }
  ]
}