{
  "nbformat": 4,
  "nbformat_minor": 0,
  "metadata": {
    "colab": {
      "name": "SpikingNeuronModel-HH.ipynb",
      "private_outputs": true,
      "provenance": [],
      "collapsed_sections": [],
      "toc_visible": true,
      "authorship_tag": "ABX9TyOWBruCvdI6wewrcIuuKjfm"
    },
    "kernelspec": {
      "name": "python3",
      "display_name": "Python 3"
    }
  },
  "cells": [
    {
      "cell_type": "markdown",
      "metadata": {
        "deletable": false,
        "editable": false,
        "id": "KSRd-kms3mOU"
      },
      "source": [
        "#The Spiking Neuron Model - Coding Challenge Problems (Part 3)\n"
      ]
    },
    {
      "cell_type": "markdown",
      "metadata": {
        "id": "Bchv4zxZui6n"
      },
      "source": [
        "#Hodgkin-Huxley Spiking Neuron Model\r\n",
        "\r\n",
        "This interactive document is meant to be followed as the reader makes their way through chapter: *The Spiking Neuron Model*.  Each model presented in the chapter will have a section consisting of a step-by-step walkthrough of a simple Python implementation.  This is followed by an interface to run simulations with different parameter values to answer the Coding Challenge Problems.\r\n",
        "\r\n",
        "For each model covered in the chapter, there is a section called **Simulations for Coding Challenge Problems.**  This is where you will find user-interface components such as value sliders for various parameters.  Use these controls to answer the questions from the text, and feel free to explore how the values affect the results.\r\n",
        "\r\n",
        "\r\n",
        "**Content creators**: Maxwell E. Bohling, Dr. Lawrence Udeigwe"
      ]
    },
    {
      "cell_type": "markdown",
      "metadata": {
        "deletable": false,
        "editable": false,
        "id": "9TSI7O4anITj"
      },
      "source": [
        "## How This Works\n",
        "\n",
        "This Jupyter Notebook has both Content cells and Code cells.  As you make your way through the tutorial, you MUST make sure to run each code cell as you come to them.  Each code cell has a *Play* button next to it which will execute the code. Some code may be hidden (generally because it is more complex code not completely necessary to understand for the purposes of the chapter Coding Challenge Problems.)\n",
        "\n",
        "**IMPORTANT**: You are currently viewing a copy of the original notebook.  You will find that you can edit the content of any cell.  If you accidently change a cell, such as a line of code and/or run into errors as you try to run subsequent blocks, simply refresh the page, OR go to the *Runtime* Menu and select *Restart runtime*.  It is also suggested that you go to the *Edit* menu and select *Clear all outputs.*  This will always allow you to revert the notebook to the original version (though you will have to run each code block again.)\n",
        "\n"
      ]
    },
    {
      "cell_type": "markdown",
      "metadata": {
        "id": "oOIce_z-uFOs"
      },
      "source": [
        " Execute the code block. **Initialize Setup**"
      ]
    },
    {
      "cell_type": "code",
      "metadata": {
        "deletable": false,
        "editable": false,
        "id": "G0sCxYMKuFOs",
        "cellView": "form"
      },
      "source": [
        "#@title Initialize Setup\n",
        "#@markdown Import python libraries, and define helper functions (No need to understand this code, simply make sure you run this first.)\n",
        "import sys\n",
        "import functools as ft\n",
        "import numpy as np\n",
        "import matplotlib.pyplot as plt\n",
        "import ipywidgets as widgets\n",
        "import scipy as sc\n",
        "\n",
        "def printError():\n",
        "  message = 'Something went wrong!\\n\\n'  \n",
        "  message = message + 'Check for the following:\\n\\n'\n",
        "  message = message + '\\t1.  Variables are set to the correct values.  Make sure to replace any instances of \\'None\\'.\\n'\n",
        "  message = message + '\\t2.  All previous code blocks have been run the order they appear and output a success message.\\n'\n",
        "  message = message + '\\t3.  No other code has been altered.\\n\\n'\n",
        "  message = message + 'then try running the code block again.\\n'\n",
        "  print(message)\n",
        "\n",
        "def printSuccess():\n",
        "  message = 'Success!  Move on to the next section.'\n",
        "  print(message)\n",
        "\n",
        "def checkVoltageParameters(Vrest, Vth, Vreset, Vspike):\n",
        "  # Check: IAF-Voltage-Parameters\n",
        "  print('Checking Voltage Parameters...\\n')\n",
        "  try:\n",
        "      check_Vrest = Vrest\n",
        "      check_Vth = Vth\n",
        "      check_Vreset = Vreset\n",
        "      check_Vspike = Vspike\n",
        "  except:\n",
        "    printError()\n",
        "  else:\n",
        "    vals = [Vrest, Vth, Vreset, Vspike]\n",
        "    correct_vals = [-70, -54, -80, 0]\n",
        "    if ft.reduce(lambda i, j : i and j, map(lambda m, k: m == k, vals, correct_vals),  True):  \n",
        "      printSuccess()\n",
        "    else:\n",
        "      printError()\n",
        " \n",
        "def checkNeuronProperties(Rm, Cm, tau_m):\n",
        "  # Check: IAF-Neuron-Properties\n",
        "  print('Checking Neuron Properties...\\n')\n",
        "  try:\n",
        "      check_Rm = Rm\n",
        "      check_Cm = Cm\n",
        "      check_tau_m = tau_m\n",
        "  except:\n",
        "    printError()\n",
        "  else:\n",
        "    vals = [Rm, Cm, tau_m]\n",
        "    correct_vals = [10, 1, 10]\n",
        "    if ft.reduce(lambda i, j : i and j, map(lambda m, k: m == k, vals, correct_vals),  True):  \n",
        "      printSuccess()\n",
        "    else:\n",
        "      printError()\n",
        "\n",
        "def checkSimulationSetup(Vrest, Vinitial, EL, t0, dt, t_final, time, Ie, t_pulse, start_current, end_current):\n",
        "  # Check: IAF-Simulation-Setup\n",
        "  print('Checking Simulation Setup...\\n')\n",
        "  try:\n",
        "    check_Vrest = Vrest\n",
        "    check_Vinitial = Vinitial\n",
        "    check_EL = EL\n",
        "    check_t0 = t0\n",
        "    check_dt = dt\n",
        "    check_t_final = t_final\n",
        "    check_time = time\n",
        "    check_Ie = Ie\n",
        "    check_t_pulse = t_pulse\n",
        "    check_start_current = start_current\n",
        "    check_end_current = end_current\n",
        "  except:\n",
        "    printError()\n",
        "  else:\n",
        "    vals = [Vrest, Vinitial, EL, t0, dt, t_final, Ie, t_pulse, start_current, end_current]\n",
        "    correct_vals = [-70, -70, -70, 0, 1, 500, 1.75, 300, 100, 400]\n",
        "    if ft.reduce(lambda i, j : i and j, map(lambda m, k: m == k, vals, correct_vals),  True):  \n",
        "      if len(time) == 500 and time[0] == 0 and time[-1] == 499:\n",
        "        printSuccess()\n",
        "      else:\n",
        "        printError()\n",
        "    else:\n",
        "      printError()\n",
        "\n",
        "def autoSetValues():\n",
        "  Vrest = -70\n",
        "  Vth = -54 \n",
        "  Vreset = -80\n",
        "  Vspike = 0\n",
        "  Vinitial = Vrest\n",
        "  EL = Vrest\n",
        "  t0 = 0\n",
        "  dt = 1\n",
        "  t_final = 500\n",
        "  time = range(t0, t_final, dt)\n",
        "  t_pulse = 300 \n",
        "  start_current = np.absolute(t_final-t_pulse)/2 \n",
        "  end_current = start_current+t_pulse \n",
        "  V = [0] * len(time)\n",
        "  V[0] = Vrest\n",
        "\n",
        "try:\n",
        "  check_sys = sys\n",
        "except:\n",
        "  printError()\n",
        "else:\n",
        "  modulename = 'functools'\n",
        "  if modulename not in sys.modules:\n",
        "    printError()\n",
        "  else:\n",
        "    printSuccess()"
      ],
      "execution_count": null,
      "outputs": []
    },
    {
      "cell_type": "markdown",
      "metadata": {
        "id": "KNjzRUaW3myQ"
      },
      "source": [
        "## Walkthrough\n",
        "The goal of this section is to write a Python implementation of the Hodgkin-Huxley model.  Recall from the chapter text that we need to account for both activation and inactivation gating variables in order to simulate the persistent and transient conductances involved in the membrane current equation.\n",
        "\n",
        "### Membrane Current\n",
        "Recall that the Hodgkin-Huxley model is expressed as a sum of currents.  The membrane current equation is given as:\n",
        "\n",
        "> $ \\displaystyle i_{m} = \\overline{g}_{L}(V-E_{L}) + \\overline{g}_{K}n^4(V-E_{K}) + \\overline{g}_{Na}m^3h(V-E_{Na})$\n",
        "\n",
        "with maximal conductances $\\overline{g}_{L},\\;$ $\\overline{g}_{K}\\;$ $\\overline{g}_{Na}\\;$ and reversal potentials $E_{L},\\;$ $E_{K},\\;$ $E_{Na}$.\n",
        "\n",
        "As with the previous models, Euler's method is used to compute the time evolution of the membrane potential $V$.  For this model, we use the same numerical integration method to compute the evolution of the gating variables $n$, $m$, and $h$. \n",
        "\n",
        "### Membrane Equation\n",
        "Recall that the membrane equation is expressed as follows:\n",
        "\n",
        "> $ \\displaystyle \\frac{dV}{dt} = -i_m+ \\frac{I_{e}}{A} $"
      ]
    },
    {
      "cell_type": "markdown",
      "metadata": {
        "id": "O0ZjZexg-Yh1"
      },
      "source": [
        "### Voltage Parameters\r\n",
        "\r\n",
        "As opposed to the integrate-and-fire model, the Hodgkin-Huxley model does not utilize a spiking mechanism.  Therefore, we only need to define the *Voltage Parameter* that determine the resting potential:\r\n",
        "\r\n",
        "*   $ V_{rest} = -70\\;$*mV*\r\n",
        "\r\n",
        "\r\n"
      ]
    },
    {
      "cell_type": "code",
      "metadata": {
        "id": "u-jtJktABYnl"
      },
      "source": [
        "try:\r\n",
        "  # Voltage Parameters - Units mV (1 mV = 1e-3 Volts)\r\n",
        "  Vrest = -70\r\n",
        "except:\r\n",
        "  printError()\r\n",
        "else:\r\n",
        "  printSuccess()"
      ],
      "execution_count": null,
      "outputs": []
    },
    {
      "cell_type": "markdown",
      "metadata": {
        "id": "C5SJbJ-XBZM0"
      },
      "source": [
        "### Neuron Properties\r\n",
        "The membrane equation is described by a total membrane current $i_{m}$ as a sum of:\r\n",
        "\r\n",
        "1.  A *leakage current*: $ \\displaystyle\\; \\overline{g}_{L}(V-E_{L}) $\r\n",
        "2.  A *persistent current*:  $\\displaystyle\\; \\overline{g}_{K}n^4(V-E_{K}) $\r\n",
        "3.  A *transient current*:  $\\displaystyle\\; \\overline{g}_{Na}m^3h(V-E_{Na})$\r\n",
        "\r\n",
        "Thus, the persistent conductance is modeled as a K$^+$ conductance and the transient conductance is modeled as a Na$^+$ conductance.  For each current, we define the maximimal conductances:\r\n",
        "\r\n",
        "*   $ \\displaystyle\\; \\overline{g}_{L} = 0.3\\;$mS / mm$^2$\r\n",
        "*   $ \\displaystyle\\; \\overline{g}_{K} = 35\\;$mS / mm$^2$\r\n",
        "*   $ \\displaystyle\\; \\overline{g}_{Na} = 40\\;$mS / mm$^2$\r\n",
        "\r\n",
        "and reversal potentials:\r\n",
        "\r\n",
        "*   $ \\displaystyle\\; E_{L} = -70\\;$mV\r\n",
        "*   $ \\displaystyle\\; E_{K} = -77\\;$mV\r\n",
        "*   $ \\displaystyle\\; E_{Na} = 55\\;$mV\r\n",
        "\r\n",
        "Lastly, as seen in the membrane equation for the model, we must define the value of the injected current, and the neuronal surface area:\r\n",
        "\r\n",
        "*   $ \\displaystyle\\; I_{e} = 1\\;$nA\r\n",
        "*   $ \\displaystyle\\; A = 0.1\\;$mm$^2$"
      ]
    },
    {
      "cell_type": "code",
      "metadata": {
        "id": "UDfxv2sJFqCE"
      },
      "source": [
        "try:\r\n",
        "  #Maximal Conductances - Units mS/mm^2\r\n",
        "  GL = 0.3\r\n",
        "  GK = 35\r\n",
        "  GNa = 40\r\n",
        "\r\n",
        "  # Reversal Potentials - Units mV\r\n",
        "  EL = -70;\r\n",
        "  EK = -77\r\n",
        "  ENa = 55\r\n",
        "\r\n",
        "  # Input current: Ie - Units nA (1 nA = 10-9 Amperes)\r\n",
        "  Ie = 1.00\r\n",
        "\r\n",
        "  # Neuron Surface Area - Units mm^2\r\n",
        "  A = 0.1\r\n",
        "except:\r\n",
        "  printError()\r\n",
        "else:\r\n",
        "  printSuccess()"
      ],
      "execution_count": null,
      "outputs": []
    },
    {
      "cell_type": "markdown",
      "metadata": {
        "id": "Nmw6RkH93eAY"
      },
      "source": [
        "### Simulation Setup\n",
        "We will be running a 20 ms simulation.  The following lines of code setup a time span for the simulation.  This is simply a matter of defining the start time $t_{0} = 0$ and the total length (in ms) of the simulation: $t_{final} = 20$.  \n",
        "\n",
        "Throughout the simulation, we calculate the membrane potential $V$ at each *time-step*.  The time-step is the change in time for each iteration of the simulation, for example if $t_{0} = 0$, the next computation of $V$ is performed at $t_{0} + dt$.  \n",
        "\n",
        "Thus, by setting $dt = 0.01$ (in ms), the simulation will compute $V$, $n$, $m$, and $h$ at time $t = 1, 2, \\ldots, t_{final}$. "
      ]
    },
    {
      "cell_type": "code",
      "metadata": {
        "id": "Nto9i4b0H5uU"
      },
      "source": [
        "try:\n",
        "  # Simulation Time Span (0 to 20ms, dt = 0.01ms)\n",
        "  t0 = 0\n",
        "  dt = 0.01\n",
        "  t_final = 20\n",
        "\n",
        "  time = np.linspace(t0, t_final,  2000)\n",
        "except:\n",
        "  printError()\n",
        "else:\n",
        "  if len(time) == 2000 and time[0] == 0 and time[-1] == 20:\n",
        "    printSuccess()\n",
        "  else:\n",
        "    printError()"
      ],
      "execution_count": null,
      "outputs": []
    },
    {
      "cell_type": "markdown",
      "metadata": {
        "id": "tl1xs8C9JHi0"
      },
      "source": [
        "Next, we define the time $t$ at which the injected current $I_{e}$ is *switched on* and applied to the neuron, and the time $t$ at which the injected current is *switched off*.\r\n",
        "\r\n",
        "For the Hodgkin-Huxley model, we run a shorter simulation and we apply the current from $t = 1\\;$ms to $t = 2\\;$ms."
      ]
    },
    {
      "cell_type": "code",
      "metadata": {
        "id": "mle-HBerJH_M"
      },
      "source": [
        "try:\r\n",
        "  # Time at which the current is applied - Units ms\r\n",
        "  start_current = 1\r\n",
        "  \r\n",
        "  # Time at which the current is switched off - Units ms\r\n",
        "  end_current = 2\r\n",
        "except:\r\n",
        "  printError()\r\n",
        "else:\r\n",
        "  printSuccess()"
      ],
      "execution_count": null,
      "outputs": []
    },
    {
      "cell_type": "markdown",
      "metadata": {
        "id": "uMrGRECm0QH0"
      },
      "source": [
        "To setup our simulation, we need initial values of each variable: $V$, $n$, $m$, and $h$ as well as a list to hold the values over time.\n",
        "\n",
        "Set initial values as:\n",
        "\n",
        "* $V_{initial}= V_{rest}\\;$*mV*\n",
        "* $n_{initial} = 0.1399$\n",
        "* $m_{initial} = 0.0498$\n",
        "* $h_{initial} = 0.6225$\n",
        "\n",
        "With each value defined at time $t = 0$, let $V_0 = V_{initial}, n_0 = n_{initial},  m_0 = m_{initial}, h_0 = h_{initial} $.  \n",
        "\n",
        "The initial membrane current is then:\n",
        "\n",
        "*  $\\displaystyle i_{initial} = \\overline{g}_{L}(V_0-E_{L}) + \\overline{g}_{K}n_0^4(V_0-E_{K}) + \\overline{g}_{Na}m_0^3h_0(V_0-E_{Na})$ "
      ]
    },
    {
      "cell_type": "code",
      "metadata": {
        "id": "a0aKQ08nGgDb"
      },
      "source": [
        "try:\r\n",
        "  # Initial voltage\r\n",
        "  Vinitial = Vrest\r\n",
        "\r\n",
        "  # Create a list V(t) to store the value of V at each time-step dt\r\n",
        "  V = [0] * len(time)\r\n",
        "\r\n",
        "  # Set the initial value at time t = t0 to the initial value Vinitial\r\n",
        "  V[0] =  Vinitial\r\n",
        "\r\n",
        "  # Initial gating variable values (Probability [0, 1])\r\n",
        "  n_initial = 0.1399\r\n",
        "  m_initial = 0.0498\r\n",
        "  h_initial = 0.6225\r\n",
        "\r\n",
        "  # Create lists to store the value of each gating variable at each time-step dt\r\n",
        "  n = [0] * len(time)\r\n",
        "  m= [0] * len(time)\r\n",
        "  h = [0] * len(time)\r\n",
        "\r\n",
        "  # Set the initial value at time t = t0 to the initial values\r\n",
        "  n[0] =  n_initial\r\n",
        "  m[0] =  m_initial\r\n",
        "  h[0] =  h_initial\r\n",
        "\r\n",
        "  # Initial membrane current \r\n",
        "  im_initial = GL*(V[0]-EL)+GK*np.power(n[0],4)*(V[0]-EK)+GNa*np.power(m[0],3)*h[0]*(V[0]-ENa)\r\n",
        "\r\n",
        "  # Create list to store value of membrane current at each time-step dt\r\n",
        "  im = [0] * len(time)\r\n",
        "\r\n",
        "  # Set the initial value at time t = t0 to the initial value im_initial\r\n",
        "  im[0] = im_initial\r\n",
        "except:\r\n",
        "  printError()\r\n",
        "else:\r\n",
        "  printSuccess()"
      ],
      "execution_count": null,
      "outputs": []
    },
    {
      "cell_type": "markdown",
      "metadata": {
        "id": "VTMUzwHWK5f8"
      },
      "source": [
        "### Computing and Storing $\\frac{dV}{dt}$, $\\frac{dn}{dt}$, $\\frac{dm}{dt}$, $\\frac{dh}{dt}$"
      ]
    },
    {
      "cell_type": "markdown",
      "metadata": {
        "id": "T7RnI1QjLOLM"
      },
      "source": [
        "### Opening and Closing Rate Functions for Gating Variables\r\n",
        "\r\n",
        "The gating variables $n$, $m$, and $h$ represent **probabilities** that a gate mechanism in both the persistent and transient ion-conducting channels are open or *activated*.   \r\n",
        "\r\n",
        "For any arbitrary gating variable $z$,  the open probability of a channel at any time $ t $ is computed using  an *opening* rate function $\\alpha_{z}(V)$ and a *closing* rate $\\beta_{z}(V)$, both of which are functions of the membrane potential $V$.\r\n",
        "\r\n",
        "Each gating variable is numerically integrated using Euler's method throughout the simulation, where for any arbitrary gating variable $z$, the rate functions are given as follows:\r\n",
        "\r\n",
        "> $ \\displaystyle \\tau_{z}(V)\\frac{dz}{dt} = z_{\\infty}(V) - z $\r\n",
        "\r\n",
        "where\r\n",
        "\r\n",
        ">  $ \\displaystyle \\tau_{z}(V) = \\frac{1}{\\alpha_{z}(V) + \\beta_{z}(V)} $\r\n",
        "\r\n",
        "and\r\n",
        "\r\n",
        "> $ \\displaystyle z_{\\infty}(V) = \\frac{\\alpha_{z}(V) }{\\alpha_{z}(V) + \\beta_{z}(V)} $\r\n",
        "\r\n",
        "\r\n"
      ]
    },
    {
      "cell_type": "markdown",
      "metadata": {
        "id": "J-ObWNkDPgqc"
      },
      "source": [
        "#### Fitted Rate Functions\r\n",
        "Hodgkin and Huxley had fit the opening and closing rate functions using experimental data.  These are given as follows:\r\n",
        "\r\n",
        "For activation variable $n$\r\n",
        "\r\n",
        "> $ \\displaystyle \\alpha_{n}(V) = \\frac{0.01(V+60)}{ 1 - \\exp(V+60)} $\r\n",
        "\r\n",
        "> $ \\displaystyle \\beta_{n}(V) = 0.125\\exp(-0.0125(V+70)) $\r\n",
        "\r\n",
        "For activation variable $m$\r\n",
        "\r\n",
        "> $ \\displaystyle \\alpha_{m}(V) = \\frac{0.1(V+45)}{1 - \\exp(-0.1(V+45))}$\r\n",
        "\r\n",
        "> $ \\displaystyle \\beta_{m}(V) = 4\\exp(-0.0556(V+70)) $\r\n",
        "\r\n",
        "For inactivation variable $h$\r\n",
        "\r\n",
        "> $ \\displaystyle \\alpha_{h}(V) = .07\\exp(-0.05(V+70))$\r\n",
        "\r\n",
        "> $ \\displaystyle \\beta_{h}(V) = \\frac{1}{1 + \\exp(-0.1(V+40))} $\r\n",
        "\r\n",
        "We define separate functions for each gating variable.  These will take the membrane potential $V(t)$ as input, and ouput $dz$ where $z = n, m, h $.  Using the functional forms and fitted rate functions, these functions compute the changes dn, dm, and dh at each time-step dt which depend on the membrane potential V at time t.\r\n"
      ]
    },
    {
      "cell_type": "code",
      "metadata": {
        "id": "xxups-hIRg2j"
      },
      "source": [
        "# Function: compute_dn\r\n",
        "def compute_dn(v, n):\r\n",
        "  alpha_n = (0.01*(v + 60))/(1 - np.exp(v+60))\r\n",
        "  beta_n = 0.125*np.exp(-0.0125*(v+70))\r\n",
        "\r\n",
        "  n_inf = alpha_n/(alpha_n + beta_n)\r\n",
        "  tau_n = 1/(alpha_n + beta_n)\r\n",
        "\r\n",
        "  dn = (dt/tau_n)*(n_inf - n)\r\n",
        "  return dn\r\n",
        "\r\n",
        "# Function: compute_dm\r\n",
        "def compute_dm(v, m):\r\n",
        "  alpha_m = (0.1*(v + 45))/(1 - np.exp(-0.1*(v+45)))\r\n",
        "  beta_m = 4*np.exp(-0.0556*(v+70))\r\n",
        "\r\n",
        "  m_inf = alpha_m/(alpha_m + beta_m)\r\n",
        "  tau_m = 1/(alpha_m + beta_m)\r\n",
        "\r\n",
        "  dm = (dt/tau_m)*(m_inf - m)\r\n",
        "  return dm\r\n",
        "\r\n",
        "# Function: compute_dh\r\n",
        "def compute_dh(v, h):\r\n",
        "  alpha_h = 0.07*np.exp(-0.05*(v+70))\r\n",
        "  beta_h =  1/(1 + np.exp(-0.1*(v+40)))\r\n",
        "\r\n",
        "  h_inf = alpha_h/(alpha_h + beta_h)\r\n",
        "  tau_h = 1/(alpha_h + beta_h)\r\n",
        "\r\n",
        "  dh = (dt/tau_h)*(h_inf - h)\r\n",
        "  return dh"
      ],
      "execution_count": null,
      "outputs": []
    },
    {
      "cell_type": "markdown",
      "metadata": {
        "id": "fYbZ16J5V_ZV"
      },
      "source": [
        "Finally, we run our simulation according to the updated *pseudocode*\n",
        "\n",
        "---\n",
        "\n",
        "*for each time-step from $t = t_{0}$ to $t = t_{final}$*\n",
        "> *If the current time $t \\geq start_{current}\\ $ and $\\ t \\leq end_{current}$*\n",
        ">> $I_{e} = 1\\;$nA\n",
        "\n",
        "> *otherwise*\n",
        ">> $I_{e} = 0\\;$nA\n",
        "\n",
        "> *First compute the open probabilites for each gating variable*\n",
        "\n",
        "> $ \\displaystyle dn = $ **compute_dn**$(V(t), n(t))$\n",
        "\n",
        "> *Update* $ n(t+1) = n(t) + dn $\n",
        "\n",
        "> $ \\displaystyle dm = $ **compute_dm**$(V(t), m(t))$\n",
        "\n",
        "> *Update* $ m(t+1) = m(t) + dm $\n",
        "\n",
        "> $ \\displaystyle dh = $ **compute_dh**$(V(t), h(t))$\n",
        "\n",
        "> *Update* $ h(t+1) = h(t) + dh $\n",
        "\n",
        "> $ \\displaystyle i_{m}(t+1) = \\overline{g}_{L}(V(t)-E_{L}) + \\overline{g}_{K}n(t+1)^4(V(t)-E_{K}) + \\overline{g}_{Na}m(t+1)^3h(t+1)(V(t)-E_{Na})$\n",
        "\n",
        "> *Use Euler's Method of Numerical Integration*\n",
        "\n",
        "> $ \\displaystyle dV= dt\\left(-i_m(t+1)+ \\frac{I_{e}}{A}\\right) $\n",
        "\n",
        "> *Update* $V(t+1) = V(t) + dV$\n",
        "\n",
        "\n",
        "*end*\n",
        "\n",
        "---\n",
        "\n",
        "This translates to the following Python code."
      ]
    },
    {
      "cell_type": "code",
      "metadata": {
        "id": "m7CFzo7GV_ZX"
      },
      "source": [
        "try:\n",
        "  # For each timestep we compute V and store the value\n",
        "  for t in range(len(time)-2):\n",
        "\n",
        "    # If time t >= 1 ms and t <= 2 ms, switch Injected Current ON\n",
        "    if time[t] >= start_current and time[t]  <= end_current:\n",
        "      ie = Ie\n",
        "    # Otherwise, switch Injected Current OFF\n",
        "    else:\n",
        "      ie = 0\n",
        "\n",
        "    # For each timestep we compute n, m and h and store the value\n",
        "    dn = compute_dn(V[t], n[t])\n",
        "    n[t+1] = n[t] + dn\n",
        "\n",
        "    dm = compute_dm(V[t], m[t])\n",
        "    m[t+1] = m[t] + dm\n",
        "\n",
        "    dh = compute_dh(V[t], h[t])\n",
        "    h[t+1] = h[t] + dh\n",
        "\n",
        "    # Use these values to compute the updated membrane current\n",
        "    im[t+1] = GL*(V[t]-EL)+GK*np.power(n[t+1],4)*(V[t]-EK)+GNa*np.power(m[t+1],3)*h[t+1]*(V[t]-ENa)\n",
        "\n",
        "    # Using Euler's Method for Numerical Integration (See Chapter Text)\n",
        "    # we compute the change in voltage dV as follows (using the model equation)\n",
        "    dV = dt*(-1*im[t+1] + ie/A)\n",
        "\n",
        "    # Store this new value into our list\n",
        "    V[t+1] = V[t] + dV\n",
        "except:\n",
        "  printError()\n",
        "else:\n",
        "  printSuccess()"
      ],
      "execution_count": null,
      "outputs": []
    },
    {
      "cell_type": "markdown",
      "metadata": {
        "id": "JB26_01yqrdM"
      },
      "source": [
        "### Visualizing Results\n",
        "\n",
        "Now we have values of $V$, $i_m$, $n$, $m$, and $h$ for each time-step of the simulation, we can visualize the results by using Python to plot the data.  This makes use of another widely used library **matplotlib**."
      ]
    },
    {
      "cell_type": "code",
      "metadata": {
        "id": "Sabb1eHhrOPw"
      },
      "source": [
        "try:\n",
        "  check_plt = plt\n",
        "except:\n",
        "  printError()\n",
        "else:\n",
        "  fig, axs = plt.subplots(nrows=3, ncols=1, sharex= True)\n",
        "\n",
        "  axs[0].plot(time[0:-2], V[0:-2])\n",
        "  axs[0].set_title('Hodgkin-Huxley: $V$ against Time')\n",
        "  axs[0].set_xlabel('Time (ms)')\n",
        "  axs[0].set_ylabel('$V(t)$')\n",
        "\n",
        "  axs[1].plot(time[0:-2], im[0:-2])\n",
        "  axs[1].set_title('$i_{m}$ against Time')\n",
        "  axs[1].set_xlabel('Time (ms)')\n",
        "  axs[1].set_ylabel('$i_{m}\\;$mV')\n",
        "\n",
        "  axs[2].plot(time[0:-2], n[0:-2])#, m[0:-2]))\n",
        "  axs[2].plot(time[0:-2], m[0:-2])\n",
        "  axs[2].plot(time[0:-2], h[0:-2])\n",
        "  axs[2].set_title('$n, h, m$ against Time')\n",
        "  axs[2].set_xlabel('Time (ms)')\n",
        "  axs[2].set_ylabel('$n, h, m$')\n",
        "\n",
        "  # Display the plot\n",
        "  plt.show()    "
      ],
      "execution_count": null,
      "outputs": []
    },
    {
      "cell_type": "markdown",
      "metadata": {
        "id": "4jx8m8-3rtU0"
      },
      "source": [
        "## Hodgkin-Huxley Spiking Neuron Model - Full Code"
      ]
    },
    {
      "cell_type": "code",
      "metadata": {
        "id": "2jUKPjxxngd6"
      },
      "source": [
        "import numpy as np\r\n",
        "import matplotlib.pyplot as plt\r\n",
        "\r\n",
        "# Voltage Parameters - Units mV (1 mV = 1e-3 Volts)\r\n",
        "Vrest = -70\r\n",
        "\r\n",
        "#Maximal Conductances - Units mS/mm^2\r\n",
        "GL = 0.3\r\n",
        "GK = 35\r\n",
        "GNa = 40\r\n",
        "\r\n",
        "# Reversal Potentials - Units mV\r\n",
        "EL = -70;\r\n",
        "EK = -77\r\n",
        "ENa = 55\r\n",
        "\r\n",
        "# Input current: Ie - Units nA (1 nA = 10-9 Amperes)\r\n",
        "Ie = 1.00\r\n",
        "\r\n",
        "# Neuron Surface Area - Units mm^2\r\n",
        "A = 0.1\r\n",
        "\r\n",
        "# Simulation Time Span (0 to 20ms, dt = 0.01ms)\r\n",
        "t0 = 0\r\n",
        "dt = 0.01\r\n",
        "t_final = 20\r\n",
        "time = np.linspace(t0, t_final,  2000)\r\n",
        "\r\n",
        "# Time at which the current is applied - Units ms\r\n",
        "start_current = 1\r\n",
        "\r\n",
        "# Time at which the current is switched off - Units ms\r\n",
        "end_current = 2\r\n",
        "\r\n",
        "# Initial voltage\r\n",
        "Vinitial = Vrest\r\n",
        "\r\n",
        "# Create a list V(t) to store the value of V at each time-step dt\r\n",
        "V = [0] * len(time)\r\n",
        "\r\n",
        "# Set the initial value at time t = t0 to the initial value Vinitial\r\n",
        "V[0] =  Vinitial\r\n",
        "\r\n",
        "# Initial gating variable values (Probability [0, 1])\r\n",
        "n_initial = 0.1399\r\n",
        "m_initial = 0.0498\r\n",
        "h_initial = 0.6225\r\n",
        "\r\n",
        "# Create lists to store the value of each gating variable at each time-step dt\r\n",
        "n = [0] * len(time)\r\n",
        "m= [0] * len(time)\r\n",
        "h = [0] * len(time)\r\n",
        "\r\n",
        "# Set the initial value at time t = t0 to the initial values\r\n",
        "n[0] =  n_initial\r\n",
        "m[0] =  m_initial\r\n",
        "h[0] =  h_initial\r\n",
        "\r\n",
        "# Initial membrane current \r\n",
        "im_initial = GL*(V[0]-EL)+GK*np.power(n[0],4)*(V[0]-EK)+GNa*np.power(m[0],3)*h[0]*(V[0]-ENa)\r\n",
        "\r\n",
        "# Create list to store value of membrane current at each time-step dt\r\n",
        "im = [0] * len(time)\r\n",
        "\r\n",
        "# Set the initial value at time t = t0 to the initial value im_initial\r\n",
        "im[0] = im_initial\r\n",
        "\r\n",
        "# For each timestep we compute V and store the value\r\n",
        "for t in range(len(time)-2):\r\n",
        "\r\n",
        "  # If time t >= 1 ms and t <= 2 ms, switch Injected Current ON\r\n",
        "  if time[t] >= start_current and time[t]  <= end_current:\r\n",
        "    ie = Ie\r\n",
        "  # Otherwise, switch Injected Current OFF\r\n",
        "  else:\r\n",
        "    ie = 0\r\n",
        "\r\n",
        "  # For each timestep we compute n, m and h and store the value\r\n",
        "  dn = compute_dn(V[t], n[t])\r\n",
        "  n[t+1] = n[t] + dn\r\n",
        "\r\n",
        "  dm = compute_dm(V[t], m[t])\r\n",
        "  m[t+1] = m[t] + dm\r\n",
        "\r\n",
        "  dh = compute_dh(V[t], h[t])\r\n",
        "  h[t+1] = h[t] + dh\r\n",
        "\r\n",
        "  # Use these values to compute the updated membrane current\r\n",
        "  im[t+1] = GL*(V[t]-EL)+GK*np.power(n[t+1],4)*(V[t]-EK)+GNa*np.power(m[t+1],3)*h[t+1]*(V[t]-ENa)\r\n",
        "\r\n",
        "  # Using Euler's Method for Numerical Integration (See Chapter Text)\r\n",
        "  # we compute the change in voltage dV as follows (using the model equation)\r\n",
        "  dV = dt*(-1*im[t+1] + ie/A)\r\n",
        "\r\n",
        "  # Store this new value into our list\r\n",
        "  V[t+1] = V[t] + dV\r\n",
        "\r\n",
        "fig, axs = plt.subplots(nrows=3, ncols=1, sharex= True)\r\n",
        "\r\n",
        "axs[0].plot(time[0:-2], V[0:-2])\r\n",
        "axs[0].set_title('Hodgkin-Huxley: $V$ against Time')\r\n",
        "axs[0].set_xlabel('Time (ms)')\r\n",
        "axs[0].set_ylabel('$V(t)$')\r\n",
        "\r\n",
        "axs[1].plot(time[0:-2], im[0:-2])\r\n",
        "axs[1].set_title('$i_{m}$ against Time')\r\n",
        "axs[1].set_xlabel('Time (ms)')\r\n",
        "axs[1].set_ylabel('$i_{m}\\;$mV')\r\n",
        "\r\n",
        "axs[2].plot(time[0:-2], n[0:-2])#, m[0:-2]))\r\n",
        "axs[2].plot(time[0:-2], m[0:-2])\r\n",
        "axs[2].plot(time[0:-2], h[0:-2])\r\n",
        "axs[2].set_title('$n, h, m$ against Time')\r\n",
        "axs[2].set_xlabel('Time (ms)')\r\n",
        "axs[2].set_ylabel('$n, h, m$')\r\n",
        "\r\n",
        "# Display the plot\r\n",
        "plt.show() \r\n",
        "\r\n",
        "# Function: compute_dn\r\n",
        "def compute_dn(v, n):\r\n",
        "  alpha_n = (0.01*(v + 60))/(1 - np.exp(v+60))\r\n",
        "  beta_n = 0.125*np.exp(-0.0125*(v+70))\r\n",
        "\r\n",
        "  n_inf = alpha_n/(alpha_n + beta_n)\r\n",
        "  tau_n = 1/(alpha_n + beta_n)\r\n",
        "\r\n",
        "  dn = (dt/tau_n)*(n_inf - n)\r\n",
        "  return dn\r\n",
        "\r\n",
        "# Function: compute_dm\r\n",
        "def compute_dm(v, m):\r\n",
        "  alpha_m = (0.1*(v + 45))/(1 - np.exp(-0.1*(v+45)))\r\n",
        "  beta_m = 4*np.exp(-0.0556*(v+70))\r\n",
        "\r\n",
        "  m_inf = alpha_m/(alpha_m + beta_m)\r\n",
        "  tau_m = 1/(alpha_m + beta_m)\r\n",
        "\r\n",
        "  dm = (dt/tau_m)*(m_inf - m)\r\n",
        "  return dm\r\n",
        "\r\n",
        "# Function: compute_dh\r\n",
        "def compute_dh(v, h):\r\n",
        "  alpha_h = 0.07*np.exp(-0.05*(v+70))\r\n",
        "  beta_h =  1/(1 + np.exp(-0.1*(v+40)))\r\n",
        "\r\n",
        "  h_inf = alpha_h/(alpha_h + beta_h)\r\n",
        "  tau_h = 1/(alpha_h + beta_h)\r\n",
        "\r\n",
        "  dh = (dt/tau_h)*(h_inf - h)\r\n",
        "  return dh"
      ],
      "execution_count": null,
      "outputs": []
    },
    {
      "cell_type": "markdown",
      "metadata": {
        "id": "ei_xfpmPyIYo"
      },
      "source": [
        "## Simulations for Coding Challenge Problems"
      ]
    },
    {
      "cell_type": "code",
      "metadata": {
        "id": "tk183p9hoYDh"
      },
      "source": [
        ""
      ],
      "execution_count": null,
      "outputs": []
    }
  ]
}