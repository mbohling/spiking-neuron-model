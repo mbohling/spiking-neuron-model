{
  "nbformat": 4,
  "nbformat_minor": 0,
  "metadata": {
    "colab": {
      "name": "SNM-Integrate-and-Fire.ipynb",
      "provenance": [],
      "private_outputs": true,
      "collapsed_sections": [],
      "toc_visible": true,
      "authorship_tag": "ABX9TyN/AomVTuUtFBiJ/uayXgUo",
      "include_colab_link": true
    },
    "kernelspec": {
      "name": "python3",
      "display_name": "Python 3"
    }
  },
  "cells": [
    {
      "cell_type": "markdown",
      "metadata": {
        "id": "view-in-github",
        "colab_type": "text"
      },
      "source": [
        "<a href=\"https://colab.research.google.com/github/mbohling/spiking-neuron-model/blob/main/SNM_Integrate_and_Fire.ipynb\" target=\"_parent\"><img src=\"https://colab.research.google.com/assets/colab-badge.svg\" alt=\"Open In Colab\"/></a>"
      ]
    },
    {
      "cell_type": "markdown",
      "metadata": {
        "id": "KSRd-kms3mOU"
      },
      "source": [
        "#Welcome to Simulating Spiking Model Neurons\n",
        "In the following notebook, you will see the integrate-and-fire neuron implemented in Python.  Read through each section in order and run the blocks of code as you reach them."
      ]
    },
    {
      "cell_type": "markdown",
      "metadata": {
        "id": "KNjzRUaW3myQ"
      },
      "source": [
        "## Integrate-and-Fire Python Walk-Through\n",
        "The goal of this section is to walk through a simple implementation of the integrate-and-fire model neuron.\n",
        "\n",
        "Recall that the basic equation is expressed as follows:\n",
        "\n",
        "$ \\displaystyle \\tau_{m}\\frac{dV}{dt} = E_{L} - V(t) + R_{m}I_{e} $\n",
        "\n",
        "\n"
      ]
    },
    {
      "cell_type": "markdown",
      "metadata": {
        "id": "ty3D8yxC3pWU"
      },
      "source": [
        "### Voltage Parameters\n",
        "\n",
        "We will start by defining the Voltage-Parameters that determine the resting, threshold, spike, and reset values:\n",
        "\n",
        "*   $ V_{rest} = -70 mV $\n",
        "*   $ V_{th} = -54 mV $\n",
        "*   $ V_{reset} = -80 mV $\n",
        "*   $ V_{spike} = 0 mV $\n",
        "\n",
        "\n"
      ]
    },
    {
      "cell_type": "code",
      "metadata": {
        "id": "Th4-o6DP6yWY"
      },
      "source": [
        "# Voltage Paramaters - Units mV (1 mV = 1e-3 Volts)\n",
        "Vrest = -70\n",
        "Vth = -54\n",
        "Vreset = -80\n",
        "Vspike = 0"
      ],
      "execution_count": null,
      "outputs": []
    },
    {
      "cell_type": "markdown",
      "metadata": {
        "id": "D6IJSMA47EDM"
      },
      "source": [
        "### Neuron Properties\n",
        "We now need to define the values for the Membrane Resistance $ R_{m} $, the Membrane Capacitance, $ C_{m} $, and calculate the Membrane Time Constant.  Use the following values:\n",
        "*    $ R_{m} = 10M\\Omega $\n",
        "*    $ C_{m} = 1 $ [Missing Units]\n",
        "*    $ \\tau_{m} = R_{m}C_{m} $\n"
      ]
    },
    {
      "cell_type": "code",
      "metadata": {
        "id": "4yNOY1m38LzY"
      },
      "source": [
        "# Total Membrane Resistance - Units M_Ohm (1 M_Ohm = 1e6 Ohms)\n",
        "Rm = 10\n",
        "\n",
        "# Total Membrane Capacitance - Units \n",
        "Cm = 1\n",
        "\n",
        "# Membrane Time Constant - Units ms (1 ms = 1e-3 Seconds)\n",
        "tau_m = Rm*Cm"
      ],
      "execution_count": null,
      "outputs": []
    },
    {
      "cell_type": "markdown",
      "metadata": {
        "id": "uMrGRECm0QH0"
      },
      "source": [
        "### Simulation Setup\n",
        "We want to run a simulation of the integrate-and-fire model neuron in order to observe the membrane potential $V$ overtime.  We begin with the neuron at resting conditions: $V = V_{rest} = -70mV$.\n",
        "\n",
        "Recall that the reversal potential $E_{L} = V_{rest}$.  Since we have defined $V_{rest}$ above, we can set the following parameters:"
      ]
    },
    {
      "cell_type": "code",
      "metadata": {
        "id": "ehrzVqAF1QKQ"
      },
      "source": [
        "# Initial V\n",
        "V = Vrest\n",
        "EL = Vrest"
      ],
      "execution_count": null,
      "outputs": []
    },
    {
      "cell_type": "markdown",
      "metadata": {
        "id": "Nmw6RkH93eAY"
      },
      "source": [
        "We will be running a 500 ms simulation.  The following lines of code setup a time span for the simulation.  This is simply a matter of defining the start time $t_{0} = 0$ and the total length (in ms) of the simulation: $t_{final} = 500$.  \n",
        "\n",
        "Throughout the simulation, we calculate the membrane potential $V$ at each *time-step*.  The time-step is the change in time for each iteration of the simulation, for example if $t_{0} = 0$, the next computation of $V$ is performed at $t_{0} + dt$.  \n",
        "\n",
        "Thus, by setting $dt = 1$ (in ms), the simulation will compute $V$ at time $t = 1, 2, \\ldots, t_{final}$.  For $dt = 1$, we compute $V$ at every 1 ms until the end of the simulation is reached.\n",
        "\n",
        "We can therefore set up the simulation time-span as follows:"
      ]
    },
    {
      "cell_type": "code",
      "metadata": {
        "id": "Nto9i4b0H5uU"
      },
      "source": [
        "# Simulation Time Span (0 to 500ms, dt = 1ms)\n",
        "t0 = 0\n",
        "dt = 1\n",
        "t_final = 500\n",
        "\n",
        "# Create the list of time step values\n",
        "time = range(t0, t_final, dt)"
      ],
      "execution_count": null,
      "outputs": []
    },
    {
      "cell_type": "markdown",
      "metadata": {
        "id": "Y4nKQoRrLr0E"
      },
      "source": [
        "#### Python: Importing Libraries\n",
        "\n",
        "\n",
        "Before moving further, we introduce a feature of Python necessary for many applications: *importing libraries*, sometimes called *packages* or *modules*.\n",
        "\n",
        "Consider a scenario where you have a small dataset of numerical values:\n"
      ]
    },
    {
      "cell_type": "code",
      "metadata": {
        "id": "Cb5urQFCOYGo"
      },
      "source": [
        "# Data set as a list of numerical values\n",
        "data = [99, 50, 34, 94.3, 65]"
      ],
      "execution_count": null,
      "outputs": []
    },
    {
      "cell_type": "markdown",
      "metadata": {
        "id": "udMYXR-fOrK8"
      },
      "source": [
        "Let us say your objective is to use Python to find the maximum value and the average value of your data set.  It should be clear by simple inspection that the maximum value of the data set is 99.  However, what if your data set has 10,000 numerical values instead of 5?  It wouldn't be practical to inspect 10,000 numbers, so we need an **algorithm** to find this value for us.\n",
        "\n",
        "The following code is a simple algorithm for finding the maximum value of a given data set of numerical values:\n",
        "\n",
        "(*Do not worry about understanding every line of the code in either of the following code blocks.*)"
      ]
    },
    {
      "cell_type": "code",
      "metadata": {
        "id": "IlUwEfIDPzdg"
      },
      "source": [
        "# Finding the maximum value\n",
        "\n",
        "# We use this variable to keep track of the largest value we come across\n",
        "max_value = 0\n",
        "\n",
        "# A for-loop: for each number in our data set data\n",
        "for num in data:\n",
        "  # If this number is larger than the current max_value\n",
        "  if num > max_value:\n",
        "    # Then set max_value to this value\n",
        "    max_value = num\n",
        "\n",
        "# Print the result of our algorithm to find the maximum value.\n",
        "print('Maximum Value: %i' % max_value)"
      ],
      "execution_count": null,
      "outputs": []
    },
    {
      "cell_type": "markdown",
      "metadata": {
        "id": "2Izc9RRWRp8U"
      },
      "source": [
        "By running the previous code, it should have found the maximum value and the output from the print function is:\n",
        "\n",
        "`Maximum Value: 99`\n",
        "\n",
        "Now you are tasked with finding the average value in the data set.  We find this by adding the values of the data set and dividing by the number of values.\n",
        "\n",
        "The following code is another simple algorithm for computing the average value of a given data set of numerical values:"
      ]
    },
    {
      "cell_type": "code",
      "metadata": {
        "id": "BwEelxvVRpVQ"
      },
      "source": [
        "# Finding the average value\n",
        "\n",
        "# Keep track of the total sum of the data set.\n",
        "sum_of_data = 0\n",
        "\n",
        "# Let N be the total number of data values\n",
        "N = 0\n",
        "\n",
        "# A for-loop: for each number in our data set data\n",
        "for num in data:\n",
        "  # Update our variable: sum_of_data by adding each value\n",
        "  # Note that we do not want to overwrite the value of sum_of_data, but rather \n",
        "  # add to the current value\n",
        "  sum_of_data = sum_of_data + num\n",
        "\n",
        "  # Update our variable: N by adding 1 for each number we encounter\n",
        "  N = N + 1\n",
        "\n",
        "# Finally, compute the average value\n",
        "average = sum_of_data/N;\n",
        "\n",
        "# Print the result of our algorithm to find the average value to 2 decimals.\n",
        "print('Average Value: %.2f' % average)"
      ],
      "execution_count": null,
      "outputs": []
    },
    {
      "cell_type": "markdown",
      "metadata": {
        "id": "P-df2xT0Ubbs"
      },
      "source": [
        "By running the previous code, it should have found the average value and the output from the print function is:\n",
        "\n",
        "`Average Value: 68.46`\n",
        "\n",
        "Now, how does this relate to the concept of **importing libraries**?  Think about the previous algorithms and what they do.  There are innumerable applications in which finding the maximum or average values are necessary.\n",
        "\n",
        "Do we really need to write these algorithms every single time we need to find the average or maximum values of a data set?\n",
        "\n",
        "Fortunately, the answer is no!  This is a scenario where we can import a *library* or *package*.  A library is a code base that comes with pre-packaged algorithms ready for you to use.  In other words, another Python programmer has already written the code above, and they are nice enough to allow anyone to use their code.\n",
        "\n",
        "Let us see how this works by finding the maximum and average values of our data set using a library called **numpy**:\n"
      ]
    },
    {
      "cell_type": "code",
      "metadata": {
        "id": "uXKi0cL_YAlU"
      },
      "source": [
        "# Finding the maximum and average values of our small data set\n",
        "\n",
        "# We import the numpy library, and name the import 'np' \n",
        "# np is conventional, however you can call it anything you like\n",
        "# i.e 'import numpy as abcdefg'\n",
        "import numpy as np\n",
        "\n",
        "# First, we find the maximum value and print the result:\n",
        "max_value = np.max(data)\n",
        "print('Maximum Value: %i' % max_value)\n",
        "\n",
        "# Next, we find the average value and print the result:\n",
        "average = np.mean(data)\n",
        "print('Average Value: %.2f' % average)"
      ],
      "execution_count": null,
      "outputs": []
    },
    {
      "cell_type": "markdown",
      "metadata": {
        "id": "yH_6pwYJZrZQ"
      },
      "source": [
        "Much easier right?  Note that we compute and output the results using the **numpy** library which already has the algorithms *max* and *mean* to do the job of our previous code in a single line!\n",
        "\n",
        "These are just some basic examples, there are over 200,000 of these libraries providing access to algorithms helping us to avoid writing unnecessary code.\n",
        "\n",
        "Visit https://pypi.org/ and look around for libraries and packages ready to be imported into your code!"
      ]
    },
    {
      "cell_type": "markdown",
      "metadata": {
        "id": "RazSL8WEbvYI"
      },
      "source": [
        "### Injected Current\n",
        "\n",
        "To summarize what we have so far: the integrate-and-fire neuron model describes the membrane potential $V$ by the basic differential equation:\n",
        "\n",
        "$ \\displaystyle \\tau_{m}\\frac{dV}{dt} = E_{L} - V(t) + R_{m}I_{e} $\n",
        "\n",
        "We must define one last parameter, and that is the injected current $I_{e}$.  There are two aspects of this parameter that must be defined: the strength of the current measured in nanoamperes (nA), and the time values at which the current is switched on and off.\n",
        "\n",
        "First, we set the strength of the injected current as:"
      ]
    },
    {
      "cell_type": "code",
      "metadata": {
        "id": "ET5qtPsSd7GU"
      },
      "source": [
        "# Input Current: Ie - Units nA (1 nA = 10-9 Amperes)\n",
        "# Using 1.75 for default\n",
        "Ie = 1.75"
      ],
      "execution_count": null,
      "outputs": []
    },
    {
      "cell_type": "markdown",
      "metadata": {
        "id": "w3r4kuazd-6E"
      },
      "source": [
        "Recall that we have set up the simulation to run for 500ms.  We want to begin applying the injected current $I_{e}$ at 100ms, and switch it off at 400 ms.\n",
        "\n",
        "To do this we define the variables:\n",
        "*    $ t_{pulse} = 300\\ ms $ \n",
        "*    $ start_{current} = \\displaystyle \\frac{\\left|t_{final}-t_{pulse}\\right|}{2} = \\frac{\\left|500-300\\right|}{2} = 100\\ ms$ \n",
        "*    $ end_{current} = start_{current} + t_{pulse} = 100 + 300 = 400\\ ms $\n",
        "\n",
        "\n",
        "  We can use the **numpy** library to help with this:"
      ]
    },
    {
      "cell_type": "code",
      "metadata": {
        "id": "-foxqPxkepXQ"
      },
      "source": [
        "# Current Pulse Time Span - Units ms (1 ms = 1e-3 Seconds)\n",
        "t_pulse = 300 \n",
        "\n",
        "# Time at which the current is applied\n",
        "start_current = np.absolute(t_final-t_pulse)/2 \n",
        "\n",
        "# Time at which the current is switched off\n",
        "end_current = start_current+t_pulse "
      ],
      "execution_count": null,
      "outputs": []
    },
    {
      "cell_type": "markdown",
      "metadata": {
        "id": "STna6uUthJfs"
      },
      "source": [
        "### Computing and Storing $\\frac{dV}{dt}$\n",
        "\n",
        "We are about ready to finish the code implementation for simulating an integrate-and-fire model neuron.\n",
        "\n",
        "We only need some way to store the values of the membrane potential $V$ at each time step.  To do this, we simply create an empty list $V(t)$ with a length equal to the number of time-steps of our simulation.  We then set $V(t_{0}) = V(0) = V_{rest}$ as we begin our simulation at resting conditions."
      ]
    },
    {
      "cell_type": "code",
      "metadata": {
        "id": "xHJWJGzvip1U"
      },
      "source": [
        "# Create a list V(t) to store the value of V at each time-step dt\n",
        "Vt = [0] * len(time)\n",
        "\n",
        "# Set the initial value at time t = t0 to the resting potential\n",
        "Vt[0] = Vrest"
      ],
      "execution_count": null,
      "outputs": []
    },
    {
      "cell_type": "markdown",
      "metadata": {
        "id": "ffea_pxNk2T8"
      },
      "source": [
        "Finally, we run our simulation according to the following *psuedo-code*\n",
        "\n",
        "---\n",
        "\n",
        "*for each time-step from $t = t_{0}$ to $t = t_{final}$*\n",
        "> *If the current time $t < start_{current}\\ $ or $\\ t > end_{current}$*\n",
        ">> $I_{e} = 0$\n",
        "\n",
        "> *otherwise*\n",
        ">> $I_{e} = 1.75\\ nA$\n",
        "\n",
        "> *Use Euler's Method of Numerical Integration to determine the change in membrane potential $\\ dV$ as: $\\ \\displaystyle dV = \\frac{dt}{\\tau_{m}}(E_{L} - V(t) + R_{m}I_{e})$*\n",
        "\n",
        "> *Update $V(t+1) = V(t) + dV$*\n",
        "\n",
        "> *If $\\ V(t+1) \\geq V_{th} $* \n",
        ">> $V(t) = V_{spike}$\n",
        "\n",
        ">> $V(t+1) = V_{reset}$\n",
        "\n",
        "*end*\n",
        "\n",
        "---\n",
        "\n",
        "This translates to the following Python code:"
      ]
    },
    {
      "cell_type": "code",
      "metadata": {
        "id": "sFny5AqI3XIs"
      },
      "source": [
        "for t in time[0:-2]:\n",
        "\n",
        "    if t < start_current or t > end_current:\n",
        "        ie = 0\n",
        "    else:\n",
        "        ie = Ie\n",
        "\n",
        "    dVt = (1/tau_m)*(EL - Vt[t] + Rm*ie)*dt\n",
        "\n",
        "    Vt[t+1] = Vt[t] + dVt\n",
        "\n",
        "    if Vt[t+1] >= Vth:\n",
        "        Vt[t] = Vspike\n",
        "        Vt[t+1] = Vreset"
      ],
      "execution_count": null,
      "outputs": []
    },
    {
      "cell_type": "markdown",
      "metadata": {
        "id": "JB26_01yqrdM"
      },
      "source": [
        "### Visualizing Results\n",
        "\n",
        "Now we have values of $V$ for each time-step of the simulation, we can visualize the results by using Python to plot the data.  This makes use of another widely used library **matplotlib**.\n",
        "\n",
        "We can plot the results as:"
      ]
    },
    {
      "cell_type": "code",
      "metadata": {
        "id": "Sabb1eHhrOPw"
      },
      "source": [
        "import matplotlib.pyplot as plt\n",
        "\n",
        "# Plot the membrane potential\n",
        "plt.plot(time[0:-2], Vt[0:-2])\n",
        "plt.xlabel('Time (ms)')\n",
        "plt.ylabel('$V(t)$')\n",
        "plt.hlines(-54,time[0],time[-2],colors='r',linestyles='dashed')\n",
        "# Display the plot\n",
        "plt.show()                           "
      ],
      "execution_count": null,
      "outputs": []
    },
    {
      "cell_type": "markdown",
      "metadata": {
        "id": "4jx8m8-3rtU0"
      },
      "source": [
        "# Full Integrate-and-Fire Model Neuron Code"
      ]
    },
    {
      "cell_type": "code",
      "metadata": {
        "id": "OYvJGlqdr-K8"
      },
      "source": [
        "# Integrate-and-Fire Model Neuron\n",
        "\n",
        "import matplotlib.pyplot as plt\n",
        "import numpy as np\n",
        "\n",
        "# Voltage Paramaters - Units mV (1 mV = 1e-3 Volts)\n",
        "Vrest = -70\n",
        "Vth = -54\n",
        "Vreset = -80\n",
        "Vspike = 0\n",
        "\n",
        "# Total Membrane Resistance - Units M_Ohm (1 M_Ohm = 1e6 Ohms)\n",
        "Rm = 10\n",
        "\n",
        "# Total Membrane Capacitance - Units \n",
        "Cm = 1\n",
        "\n",
        "# Membrane Time Constant - Units ms (1 ms = 1e-3 Seconds)\n",
        "tau_m = Rm*Cm\n",
        "\n",
        "# Initial V\n",
        "V = Vrest\n",
        "EL = Vrest\n",
        "\n",
        "# Simulation Time Span (0 to 500ms, dt = 1ms)\n",
        "t0 = 0\n",
        "dt = 1\n",
        "t_final = 500\n",
        "\n",
        "# Create the list of time step values\n",
        "time = range(t0, t_final, dt)\n",
        "\n",
        "# Current Pulse Time Span - Units ms (1 ms = 1e-3 Seconds)\n",
        "t_pulse = 300 \n",
        "\n",
        "# Time at which the current is applied\n",
        "start_current = np.absolute(t_final-t_pulse)/2 \n",
        "\n",
        "# Time at which the current is switched off\n",
        "end_current = start_current+t_pulse \n",
        "\n",
        "# Input Current: Ie - Units nA (1 nA = 10-9 Amperes)\n",
        "# Using 1.75 for default\n",
        "Ie = 1.75\n",
        "\n",
        "# Create a list V(t) to store the value of V at each time-step dt\n",
        "Vt = [0] * len(time)\n",
        "\n",
        "# Set the initial value at time t = t0 to the resting potential\n",
        "Vt[0] = Vrest\n",
        "\n",
        "for t in time[0:-2]:\n",
        "\n",
        "    if t < start_current or t > end_current:\n",
        "        ie = 0\n",
        "    else:\n",
        "        ie = Ie\n",
        "\n",
        "    # General Passive Integrate-and-Fire Model\n",
        "    dVt = (1/tau_m)*(EL - Vt[t] + Rm*ie)*dt\n",
        "\n",
        "    Vt[t+1] = Vt[t] + dVt\n",
        "\n",
        "    # If V crosses our threshold value Vth\n",
        "    # 1. Store the Vspike value at time t\n",
        "    # 2. Set V back to Vreset\n",
        "    if Vt[t+1] >= Vth:\n",
        "        Vt[t] = Vspike   # 1\n",
        "        Vt[t+1] = Vreset # 2\n",
        "\n",
        "# Plot the membrane potential\n",
        "plt.plot(time[0:-2], Vt[0:-2])\n",
        "plt.xlabel('Time (ms)')\n",
        "plt.ylabel('$V(t)$')\n",
        "plt.hlines(-54,time[0],time[-2],colors='r',linestyles='dashed')\n",
        "# Display the plot\n",
        "plt.show()   \n"
      ],
      "execution_count": null,
      "outputs": []
    },
    {
      "cell_type": "markdown",
      "metadata": {
        "id": "ei_xfpmPyIYo"
      },
      "source": [
        "# Exercise Set 1: Controlling Parameter Values"
      ]
    },
    {
      "cell_type": "code",
      "metadata": {
        "id": "eCLYU0Ap5jzQ"
      },
      "source": [
        "%matplotlib inline\n",
        "\n",
        "import matplotlib.pyplot as plt\n",
        "import numpy as np\n",
        "\n",
        "import ipywidgets as widgets\n",
        "\n",
        "# Total Membrane Resistance - Units M_Ohm (1 M_Ohm = 1e6 Ohms)\n",
        "Rm = 10\n",
        "\n",
        "# Total Membrane Capacitance - Units \n",
        "Cm = 1\n",
        "\n",
        "# Input Current: Ie - Units nA (1 nA = 10-9 Amperes)\n",
        "# Using 1.75 for default\n",
        "Ie = 1.75\n",
        "\n",
        "def recompute_membrane_potential(Rm,Cm,Ie):\n",
        "  # Voltage Paramaters - Units mV (1 mV = 1e-3 Volts)\n",
        "  Vrest = -70\n",
        "  Vth = -54\n",
        "  Vreset = -80\n",
        "  Vspike = 0\n",
        "\n",
        "  # Membrane Time Constant - Units ms (1 ms = 1e-3 Seconds)\n",
        "  tau_m = Rm*Cm\n",
        "  print('tau_m %i' % tau_m)\n",
        "  # Initial V\n",
        "  V = Vrest\n",
        "  EL = Vrest\n",
        "\n",
        "  # Simulation Time Span (0 to 500ms, dt = 1ms)\n",
        "  t0 = 0\n",
        "  dt = 1\n",
        "  t_final = 500\n",
        "\n",
        "  # Create the list of time step values\n",
        "  time = range(t0, t_final, dt)\n",
        "\n",
        "  # Current Pulse Time Span - Units ms (1 ms = 1e-3 Seconds)\n",
        "  t_pulse = 300 \n",
        "\n",
        "  # Time at which the current is applied\n",
        "  start_current = np.absolute(t_final-t_pulse)/2 \n",
        "\n",
        "  # Time at which the current is switched off\n",
        "  end_current = start_current+t_pulse \n",
        "\n",
        "  # Create a list V(t) to store the value of V at each time-step dt\n",
        "  Vt = [0] * len(time)\n",
        "\n",
        "  # Set the initial value at time t = t0 to the resting potential\n",
        "  Vt[0] = Vrest\n",
        "\n",
        "  for t in time[0:-2]:\n",
        "\n",
        "    if t < start_current or t > end_current:\n",
        "        ie = 0\n",
        "    else:\n",
        "        ie = Ie\n",
        "\n",
        "    # General Passive Integrate-and-Fire Model\n",
        "    dVt = (1/tau_m)*(EL - Vt[t] + Rm*ie)*dt\n",
        "\n",
        "    Vt[t+1] = Vt[t] + dVt\n",
        "\n",
        "    # If V crosses our threshold value Vth\n",
        "    # 1. Store the Vspike value at time t\n",
        "    # 2. Set V back to Vreset\n",
        "    if Vt[t+1] >= Vth:\n",
        "        Vt[t] = Vspike   # 1\n",
        "        Vt[t+1] = Vreset # 2\n",
        "\n",
        "  update_MP_Plot(time,Vt)\n",
        "\n",
        "def update_MP_Plot(time,Vt):\n",
        "  # Plot the membrane potential\n",
        "  plt.plot(time[0:-2], Vt[0:-2])\n",
        "  plt.xlabel('Time (ms)')\n",
        "  plt.ylabel('$V(t)$')\n",
        "  plt.hlines(-54,time[0],time[-2],colors='r',linestyles='dashed')\n",
        "  # Display the plot\n",
        "  plt.show()   \n",
        "\n",
        "## WIDGET CODE FOR UPDATING PLOT ##\n",
        "plt.style.use('ggplot')\n",
        "\n",
        "Rm_slide = widgets.IntSlider(value=10, min=1, max=50, step=1, description=\"Rm\")\n",
        "output = widgets.Output()\n",
        "\n",
        "display(Rm_slide, output)\n",
        "\n",
        "def on_value_change(change):\n",
        "    with output:\n",
        "        output.clear_output()\n",
        "        Rm = Rm_slide.value\n",
        "        recompute_membrane_potential(Rm,1,5)\n",
        "\n",
        "Rm_slide.observe(on_value_change, names='value')"
      ],
      "execution_count": null,
      "outputs": []
    }
  ]
}