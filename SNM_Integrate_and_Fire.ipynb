{
  "nbformat": 4,
  "nbformat_minor": 0,
  "metadata": {
    "colab": {
      "name": "SNM-Integrate-and-Fire.ipynb",
      "provenance": [],
      "toc_visible": true,
      "authorship_tag": "ABX9TyMy2H4JrOrHWepvRMJ2jTFN",
      "include_colab_link": true
    },
    "kernelspec": {
      "name": "python3",
      "display_name": "Python 3"
    }
  },
  "cells": [
    {
      "cell_type": "markdown",
      "metadata": {
        "id": "view-in-github",
        "colab_type": "text"
      },
      "source": [
        "<a href=\"https://colab.research.google.com/github/mbohling/spiking-neuron-model/blob/main/SNM_Integrate_and_Fire.ipynb\" target=\"_parent\"><img src=\"https://colab.research.google.com/assets/colab-badge.svg\" alt=\"Open In Colab\"/></a>"
      ]
    },
    {
      "cell_type": "markdown",
      "metadata": {
        "id": "KSRd-kms3mOU"
      },
      "source": [
        "#Welcome to Simulating Spiking Model Neurons\n",
        "In the following notebook, you will see the integrate-and-fire neuron implemented in Python.  Read through each section in order and run the blocks of code as you reach them."
      ]
    },
    {
      "cell_type": "markdown",
      "metadata": {
        "id": "KNjzRUaW3myQ"
      },
      "source": [
        "## Integrate-And-Fire\n",
        "The goal of this section is to walk through a simple implementation of the integrate-and-fire model neuron.\n",
        "\n",
        "Recall that the basic equation is expressed as follows:\n",
        "\n",
        "$ \\displaystyle \\tau_{m}\\frac{dV}{dt} = E_{L} - V(t) + R_{m}I_{e} $\n",
        "\n",
        "\n"
      ]
    },
    {
      "cell_type": "markdown",
      "metadata": {
        "id": "ty3D8yxC3pWU"
      },
      "source": [
        "### Voltage Parameters\n",
        "\n",
        "We will start by defining the Voltage-Parameters that determine the resting, threshold, spike, and reset values:\n",
        "\n",
        "*   $ V_{rest} = -70 mV $\n",
        "*   $ V_{th} = -54 mV $\n",
        "*   $ V_{reset} = -80 mV $\n",
        "*   $ V_{spike} = 0 mV $\n",
        "\n",
        "\n"
      ]
    },
    {
      "cell_type": "code",
      "metadata": {
        "id": "Th4-o6DP6yWY"
      },
      "source": [
        "# Voltage Paramaters - Units mV (1 mV = 1e-3 Volts)\n",
        "# Using the values above, set the missing variable values\n",
        "Vrest = -70\n",
        "Vth\n",
        "Vreset\n",
        "Vspike"
      ],
      "execution_count": null,
      "outputs": []
    },
    {
      "cell_type": "markdown",
      "metadata": {
        "id": "D6IJSMA47EDM"
      },
      "source": [
        "### Neuron Properties\n",
        "We now need to define the values for the Membrane Resistance $ R_{m} $, the Membrane Capacitance, $ C_{m} $, and calculate the Membrane Time Constant.  Use the following values:\n",
        "*    $ R_{m} = 10M\\Omega $\n",
        "*    $ C_{m} = 1 $ [Missing Units]\n",
        "*    $ \\tau_{m} = R_{m}C_{m} $\n"
      ]
    },
    {
      "cell_type": "code",
      "metadata": {
        "id": "4yNOY1m38LzY"
      },
      "source": [
        "# Total Membrane Resistance - Units M_Ohm (1 M_Ohm = 1e6 Ohms)\n",
        "Rm = 10\n",
        "\n",
        "# Total Membrane Capacitance - Units \n",
        "Cm = 10\n",
        "\n",
        "# Membrane Time Constant - Units ms (1 ms = 1e-3 Seconds)\n",
        "tau_m = Rm*Cm"
      ],
      "execution_count": null,
      "outputs": []
    },
    {
      "cell_type": "code",
      "metadata": {
        "id": "sFny5AqI3XIs",
        "outputId": "0e671d92-4e85-4d6c-d6ca-76ae58130490",
        "colab": {
          "base_uri": "https://localhost:8080/",
          "height": 265
        }
      },
      "source": [
        "# Integrate-and-Fire Model Neuron\n",
        "\n",
        "import matplotlib.pyplot as plt\n",
        "import numpy as np\n",
        "\n",
        "# Voltage Paramaters - Units mV (1 mV = 1e-3 Volts)\n",
        "Vrest = -70\n",
        "Vth = -54\n",
        "Vreset = -80\n",
        "Vspike = 0\n",
        "\n",
        "# Total Membrane Resistance - Units M_Ohm (1 M_Ohm = 1e6 Ohms)\n",
        "Rm = 10\n",
        "\n",
        "# Membrane Time Constant - Units ms (1 ms = 1e-3 Seconds)\n",
        "tau_m = 10\n",
        "\n",
        "# Initial V\n",
        "V = Vrest\n",
        "EL = Vrest\n",
        "\n",
        "# Simulation Time Span (0 to 500ms, dt = 1ms)\n",
        "t0 = 0\n",
        "dt = 1\n",
        "t_final = 500\n",
        "\n",
        "# Current Pulse Time Span - Units ms (1 ms = 1e-3 Seconds)\n",
        "t_pulse = 300  # This is how long the current is being injected\n",
        "\n",
        "start_current = np.absolute(t_final-t_pulse)/2 # |500-300|/2 = 200/2 = 100ms\n",
        "end_current = start_current+t_pulse # 100+300 = 400ms\n",
        "\n",
        "# Input Current: Ie - Units nA (1 nA = 10-9 Amperes)\n",
        "# Using 1.75 for default\n",
        "# < 1.6 will result in no spikes\n",
        "#Ie = 1.75\n",
        "#Ie = 2\n",
        "#Ie = 1.59\n",
        "Ie = 1.61\n",
        "\n",
        "time = np.linspace(0,500,501, dtype=np.dtype(np.int16))\n",
        "Vt = [0] * len(time)\n",
        "Vt[0] = V\n",
        "\n",
        "for t in time[0:-2]:\n",
        "\n",
        "    if t < start_current or t > end_current:\n",
        "        ie = 0\n",
        "    else:\n",
        "        ie = Ie\n",
        "\n",
        "    # General Passive Integrate-and-Fire Model\n",
        "    dVt = (1/tau_m)*(EL - Vt[t] + Rm*ie)*dt\n",
        "\n",
        "    Vt[t+1] = Vt[t] + dVt\n",
        "\n",
        "    # If V crosses our threshold value Vth:\n",
        "    # 1. Set V to a high Spike value (I set Vspike to 0)\n",
        "    # 2. Store the Vspike value at time t\n",
        "    # 4. Set V back to Vreset\n",
        "    if Vt[t+1] >= Vth:\n",
        "        Vt[t] = Vspike # 1\n",
        "        Vt[t+1] = Vreset # 4\n",
        "\n",
        "plt.plot(time[0:-2], Vt[0:-2])       # Plot the membrane potential\n",
        "plt.show()               # Display the plot\n"
      ],
      "execution_count": null,
      "outputs": [
        {
          "output_type": "display_data",
          "data": {
            "image/png": "[encoded data removed]",
            "text/plain": [
              "<Figure size 432x288 with 1 Axes>"
            ]
          },
          "metadata": {
            "tags": [],
            "needs_background": "light"
          }
        }
      ]
    }
  ]
}